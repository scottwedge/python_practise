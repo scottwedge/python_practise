{
 "cells": [
  {
   "cell_type": "code",
   "execution_count": 0,
   "metadata": {
    "colab": {
     "base_uri": "https://localhost:8080/",
     "height": 35
    },
    "colab_type": "code",
    "id": "CmrtRF9q_kGs",
    "outputId": "355f1dac-bf90-4f79-a023-8ff292caad1a"
   },
   "outputs": [
    {
     "name": "stdout",
     "output_type": "stream",
     "text": [
      "Hello World\n"
     ]
    }
   ],
   "source": [
    "print(\"Hello World\")"
   ]
  },
  {
   "cell_type": "code",
   "execution_count": 0,
   "metadata": {
    "colab": {
     "base_uri": "https://localhost:8080/",
     "height": 35
    },
    "colab_type": "code",
    "id": "iQC_cTm7_kGz",
    "outputId": "a4285cff-4c6a-4e47-ccfa-b800f4a689b9"
   },
   "outputs": [
    {
     "name": "stdout",
     "output_type": "stream",
     "text": [
      "Hello world\n"
     ]
    }
   ],
   "source": [
    "print('Hello world')"
   ]
  },
  {
   "cell_type": "code",
   "execution_count": 0,
   "metadata": {
    "colab": {
     "base_uri": "https://localhost:8080/",
     "height": 35
    },
    "colab_type": "code",
    "id": "yu2xr7mB_kG3",
    "outputId": "48160f59-acba-432a-99c4-da3b0c3b0a09"
   },
   "outputs": [
    {
     "name": "stdout",
     "output_type": "stream",
     "text": [
      "Hello 'World'\n"
     ]
    }
   ],
   "source": [
    "print(\"Hello 'World'\")"
   ]
  },
  {
   "cell_type": "code",
   "execution_count": 0,
   "metadata": {
    "colab": {
     "base_uri": "https://localhost:8080/",
     "height": 35
    },
    "colab_type": "code",
    "id": "fp0nJm7x_kG6",
    "outputId": "9fbddef0-e9b9-4434-a626-3b45a8972788"
   },
   "outputs": [
    {
     "name": "stdout",
     "output_type": "stream",
     "text": [
      "Hello \"World\"\n"
     ]
    }
   ],
   "source": [
    "print('Hello \"World\"')"
   ]
  },
  {
   "cell_type": "code",
   "execution_count": 0,
   "metadata": {
    "colab": {
     "base_uri": "https://localhost:8080/",
     "height": 34
    },
    "colab_type": "code",
    "id": "3sK_zTIR_kG9",
    "outputId": "71e28fe8-01ac-48ac-bb14-34bfbd249d71"
   },
   "outputs": [
    {
     "name": "stdout",
     "output_type": "stream",
     "text": [
      "Hello \"World\n"
     ]
    }
   ],
   "source": [
    "print(\"Hello \\\"World\")"
   ]
  },
  {
   "cell_type": "code",
   "execution_count": 0,
   "metadata": {
    "colab": {
     "base_uri": "https://localhost:8080/",
     "height": 35
    },
    "colab_type": "code",
    "id": "gW2xfJit_kG_",
    "outputId": "514fe931-604a-4bce-e83a-ca480698dfcb"
   },
   "outputs": [
    {
     "name": "stdout",
     "output_type": "stream",
     "text": [
      "Hello 'World\n"
     ]
    }
   ],
   "source": [
    "print('Hello \\'World')"
   ]
  },
  {
   "cell_type": "code",
   "execution_count": 0,
   "metadata": {
    "colab": {
     "base_uri": "https://localhost:8080/",
     "height": 54
    },
    "colab_type": "code",
    "id": "Fnfpxw6c_kHC",
    "outputId": "d44c5da1-3622-4d77-d4e2-8657e1069424"
   },
   "outputs": [
    {
     "name": "stdout",
     "output_type": "stream",
     "text": [
      "Shahed \n",
      "Talukder\n"
     ]
    }
   ],
   "source": [
    "print(\"Shahed \\nTalukder\")"
   ]
  },
  {
   "cell_type": "code",
   "execution_count": 0,
   "metadata": {
    "colab": {
     "base_uri": "https://localhost:8080/",
     "height": 35
    },
    "colab_type": "code",
    "id": "6HZt90KA_kHF",
    "outputId": "5d9384dc-f353-46b1-e90a-3fe41c5b1782"
   },
   "outputs": [
    {
     "name": "stdout",
     "output_type": "stream",
     "text": [
      "This is backslash\\\n"
     ]
    }
   ],
   "source": [
    "print(\"This is backslash\\\\\")"
   ]
  },
  {
   "cell_type": "code",
   "execution_count": 0,
   "metadata": {
    "colab": {
     "base_uri": "https://localhost:8080/",
     "height": 35
    },
    "colab_type": "code",
    "id": "RYgXqTSf_kHJ",
    "outputId": "336400bc-33c9-4b72-97dd-4209848642c9"
   },
   "outputs": [
    {
     "name": "stdout",
     "output_type": "stream",
     "text": [
      "Shahed \\ Talukder\n"
     ]
    }
   ],
   "source": [
    "# print(\"Hello\")\n",
    "print(\"Shahed \\\\ Talukder\")"
   ]
  },
  {
   "cell_type": "code",
   "execution_count": 0,
   "metadata": {
    "colab": {
     "base_uri": "https://localhost:8080/",
     "height": 90
    },
    "colab_type": "code",
    "id": "NwKi26ek_kHM",
    "outputId": "72c8c867-3b1d-41c0-e09c-ec7dd5e28076"
   },
   "outputs": [
    {
     "name": "stdout",
     "output_type": "stream",
     "text": [
      "Line A \n",
      " Line B\n",
      "Line A \\n Line B\n",
      "\\\" \\'\n"
     ]
    }
   ],
   "source": [
    "# For example\n",
    "print(\"Line A \\n Line B\")\n",
    "# hard way to print \\n or other escape sequence\n",
    "print(\"Line A \\\\n Line B\")\n",
    "print(\"\\\\\\\" \\\\'\")"
   ]
  },
  {
   "cell_type": "code",
   "execution_count": 0,
   "metadata": {
    "colab": {
     "base_uri": "https://localhost:8080/",
     "height": 35
    },
    "colab_type": "code",
    "id": "Er__edNz_kHP",
    "outputId": "7a6830b1-0044-40f8-d117-ccbed0819616"
   },
   "outputs": [
    {
     "name": "stdout",
     "output_type": "stream",
     "text": [
      "\\\" \\'\n"
     ]
    }
   ],
   "source": [
    "# Remember that\n",
    "# \\' gives '\n",
    "#\\\\ gives \\\n",
    "# and for this\n",
    "print(\"\\\\\\\" \\\\'\")"
   ]
  },
  {
   "cell_type": "code",
   "execution_count": 0,
   "metadata": {
    "colab": {
     "base_uri": "https://localhost:8080/",
     "height": 90
    },
    "colab_type": "code",
    "id": "5foEnFQP_kHR",
    "outputId": "0e588753-5e2f-4e35-ed16-607ef99b0b32"
   },
   "outputs": [
    {
     "name": "stdout",
     "output_type": "stream",
     "text": [
      "this is \\\\ double backslash\n",
      "This is /\\/\\/\\/\\/\\ mountains\n",
      "he is \tawesome\n",
      "\\\" \\n \\t \\'\n"
     ]
    }
   ],
   "source": [
    "# Exercise\n",
    "print(\"this is \\\\\\\\ double backslash\")\n",
    "print(\"This is /\\\\/\\\\/\\\\/\\\\/\\\\ mountains\")\n",
    "print(\"he is \\tawesome\")\n",
    "print(\"\\\\\\\" \\\\n \\\\t \\\\\\'\")"
   ]
  },
  {
   "cell_type": "code",
   "execution_count": 0,
   "metadata": {
    "colab": {
     "base_uri": "https://localhost:8080/",
     "height": 35
    },
    "colab_type": "code",
    "id": "bbBEHiW1_kHU",
    "outputId": "32b232d4-c156-41d0-9f52-2e5978b950e8"
   },
   "outputs": [
    {
     "name": "stdout",
     "output_type": "stream",
     "text": [
      "Hello \\n World\n"
     ]
    }
   ],
   "source": [
    "#shortcut way to print \\\n",
    "print(r\"Hello \\n World\")"
   ]
  },
  {
   "cell_type": "code",
   "execution_count": 0,
   "metadata": {
    "colab": {
     "base_uri": "https://localhost:8080/",
     "height": 90
    },
    "colab_type": "code",
    "id": "TVPqlytB_kHY",
    "outputId": "7967a922-4742-4746-8bb6-07a71aadd7ef"
   },
   "outputs": [
    {
     "name": "stdout",
     "output_type": "stream",
     "text": [
      "this is \\\\ double backslash\n",
      "this are /\\/\\/\\/\\/\\/\\ mountains\n",
      "he is \tawesome\n",
      "\\\" \\n \\t \\'\n"
     ]
    }
   ],
   "source": [
    "#Exercise solve with shortcut way\n",
    "print(r\"this is \\\\ double backslash\")\n",
    "print(r\"this are /\\/\\/\\/\\/\\/\\ mountains\")\n",
    "print(\"he is \\tawesome\")\n",
    "print(r\"\\\" \\n \\t \\'\")"
   ]
  },
  {
   "cell_type": "code",
   "execution_count": 0,
   "metadata": {
    "colab": {
     "base_uri": "https://localhost:8080/",
     "height": 35
    },
    "colab_type": "code",
    "id": "L96hgSwI_kHb",
    "outputId": "44c05bad-104a-43d1-da50-ec6640206644"
   },
   "outputs": [
    {
     "name": "stdout",
     "output_type": "stream",
     "text": [
      "😂😂😂😂\n"
     ]
    }
   ],
   "source": [
    "#Emoji printing\n",
    "#print(\"U+1F602\") previous form\n",
    "print(\"\\U0001F602\\U0001F602\\U0001F602\\U0001F602\") #next form"
   ]
  },
  {
   "cell_type": "code",
   "execution_count": 0,
   "metadata": {
    "colab": {
     "base_uri": "https://localhost:8080/",
     "height": 126
    },
    "colab_type": "code",
    "id": "zMfM__TE_kHf",
    "outputId": "a321b174-68d1-4dcd-9a3d-647cf3473bf5"
   },
   "outputs": [
    {
     "name": "stdout",
     "output_type": "stream",
     "text": [
      "18\n",
      "8\n",
      "65\n",
      "2.6\n",
      "2\n",
      "371293\n"
     ]
    }
   ],
   "source": [
    "n = 13\n",
    "m = 5\n",
    "print(n + m)\n",
    "print(n - m)\n",
    "print(n * m)\n",
    "print(n / m)\n",
    "print(n // m)\n",
    "print(n ** m)"
   ]
  },
  {
   "cell_type": "code",
   "execution_count": 0,
   "metadata": {
    "colab": {
     "base_uri": "https://localhost:8080/",
     "height": 54
    },
    "colab_type": "code",
    "id": "pbWK2GMu_kHh",
    "outputId": "82e0f10b-d033-4d2c-eeb3-18f64501bfbf"
   },
   "outputs": [
    {
     "name": "stdout",
     "output_type": "stream",
     "text": [
      "1.4142\n",
      "1.4142135623730951\n"
     ]
    }
   ],
   "source": [
    "#round function\n",
    "print(round(2**0.5, 4)) #with round function\n",
    "print(2**0.5) #without round function"
   ]
  },
  {
   "cell_type": "code",
   "execution_count": 0,
   "metadata": {
    "colab": {
     "base_uri": "https://localhost:8080/",
     "height": 35
    },
    "colab_type": "code",
    "id": "2g2QrD_v_kHl",
    "outputId": "7d119be3-333b-4344-f04e-db5d3928526d"
   },
   "outputs": [
    {
     "name": "stdout",
     "output_type": "stream",
     "text": [
      "20.0\n"
     ]
    }
   ],
   "source": [
    "#precedence rule example\n",
    "print(2**3/2*6-4*(3-4/2))\n",
    "#() --> highest priority\n",
    "#** --> right to left\n",
    "#*, /, //, % --> left to right priority\n",
    "# + , - --> left to right priority"
   ]
  },
  {
   "cell_type": "code",
   "execution_count": 0,
   "metadata": {
    "colab": {
     "base_uri": "https://localhost:8080/",
     "height": 35
    },
    "colab_type": "code",
    "id": "pgP_tcut_kHq",
    "outputId": "706937eb-b442-4b0a-ab0e-6590c27719d4"
   },
   "outputs": [
    {
     "name": "stdout",
     "output_type": "stream",
     "text": [
      "1\n"
     ]
    }
   ],
   "source": [
    "#reminder\n",
    "print(3%2) #--> it gives divided reminder"
   ]
  },
  {
   "cell_type": "code",
   "execution_count": 0,
   "metadata": {
    "colab": {
     "base_uri": "https://localhost:8080/",
     "height": 72
    },
    "colab_type": "code",
    "id": "Jr8rsveJ_kHs",
    "outputId": "372ce580-0e15-414d-9d95-9f2aac0df5fc"
   },
   "outputs": [
    {
     "name": "stdout",
     "output_type": "stream",
     "text": [
      "512\n",
      "9\n",
      "512\n"
     ]
    }
   ],
   "source": [
    "#exponents left to right priority\n",
    "print(2**3**2)\n",
    "print(3**2)\n",
    "print(2**9)"
   ]
  },
  {
   "cell_type": "code",
   "execution_count": 0,
   "metadata": {
    "colab": {
     "base_uri": "https://localhost:8080/",
     "height": 145
    },
    "colab_type": "code",
    "id": "KdnjEFVW_kHv",
    "outputId": "42f0ab7f-2a28-407c-d872-d845ba455060",
    "scrolled": true
   },
   "outputs": [
    {
     "name": "stdout",
     "output_type": "stream",
     "text": [
      "2\n",
      "<class 'int'>\n",
      "4\n",
      "<class 'int'>\n",
      "<class 'str'>\n",
      "<class 'float'>\n",
      "<class 'float'>\n"
     ]
    }
   ],
   "source": [
    "#variables in python(type of variables)\n",
    "# rules of declaring variable\n",
    "#can't be start with number\n",
    "#can be start with _ or letter(capital letter or small letter)\n",
    "#can't be start with any kind of symbol without(_)\n",
    "#can use number after letter\n",
    "n1 = 2\n",
    "print(n1)\n",
    "print(type(n1))\n",
    "n2 = 2\n",
    "n1 = n2 + n1\n",
    "print(n1)\n",
    "print(type(n1))\n",
    "n3 = \"Shahed\"\n",
    "n4 = 4.50\n",
    "print(type(n3))\n",
    "print(type(n4))\n",
    "n5 = type(n4)\n",
    "print(n5)"
   ]
  },
  {
   "cell_type": "code",
   "execution_count": 0,
   "metadata": {
    "colab": {
     "base_uri": "https://localhost:8080/",
     "height": 54
    },
    "colab_type": "code",
    "id": "AnvveWu5_kHy",
    "outputId": "f5c8c019-dae7-4446-892b-e42ab47c4f00",
    "scrolled": true
   },
   "outputs": [
    {
     "name": "stdout",
     "output_type": "stream",
     "text": [
      "Shahed \n",
      " Shahed Talukder\n"
     ]
    }
   ],
   "source": [
    "#convantion of declaring variable\n",
    "my_name = \"Shahed\" #snake case writing\n",
    "myName = \"Shahed Talukder\" #camel case writing\n",
    "print(my_name,\"\\n\",myName)"
   ]
  },
  {
   "cell_type": "code",
   "execution_count": 0,
   "metadata": {
    "colab": {
     "base_uri": "https://localhost:8080/",
     "height": 181
    },
    "colab_type": "code",
    "id": "d-Tsul32_kH0",
    "outputId": "bb057020-cfd9-4f0a-cc9f-85117d77b78c"
   },
   "outputs": [
    {
     "name": "stdout",
     "output_type": "stream",
     "text": [
      "ShahedTalukder\n",
      "Shahed Talukder\n",
      "Shahed Talukder3\n",
      "Shahed Talukder3\n",
      "Shahed TalukderShahed TalukderShahed Talukder\n",
      "Shahed Talukder\n",
      "\n",
      "\n",
      "\n"
     ]
    }
   ],
   "source": [
    "#string concatation\n",
    "f_name = \"Shahed\"\n",
    "lName = \"Talukder\"\n",
    "full_name = f_name + lName\n",
    "print(full_name)\n",
    "full_name = f_name +' '+lName\n",
    "print(full_name)\n",
    "#can't do that print(full_name + 3)\n",
    "print(full_name + \"3\")\n",
    "print(full_name + str(3))\n",
    "print(full_name * 3)\n",
    "print(full_name+\"\\n\"*3)\n",
    "#question print(full_name * 3) is printing full_name value for 3 times\n",
    "#print(full_name+\"\\n\" * 3) is not printing full_name for three times(only one time)"
   ]
  },
  {
   "cell_type": "code",
   "execution_count": 0,
   "metadata": {
    "colab": {
     "base_uri": "https://localhost:8080/",
     "height": 126
    },
    "colab_type": "code",
    "id": "gnPIeFqy_kH4",
    "outputId": "d5626c85-b3f8-4568-b6d0-57f3c168e500"
   },
   "outputs": [
    {
     "name": "stdout",
     "output_type": "stream",
     "text": [
      "Enter your nameshahed\n",
      "<class 'str'>\n",
      "Hello :shahed\n",
      "Enter your first name:shahed\n",
      "Enter your last name:talukder\n",
      "Hello,how are you?,shahed talukder\n"
     ]
    }
   ],
   "source": [
    "#getting user input\n",
    "# input() function always take input as integer like\n",
    "name = input(\"Enter your name\")\n",
    "print(type(name))\n",
    "print(\"Hello :\"+name)\n",
    "#we can add two string with (+)\n",
    "f_name = input(\"Enter your first name:\")\n",
    "l_name = input(\"Enter your last name:\")\n",
    "full_name = f_name+' '+l_name\n",
    "print(\"Hello,how are you?,\"+full_name)"
   ]
  },
  {
   "cell_type": "code",
   "execution_count": 0,
   "metadata": {
    "colab": {
     "base_uri": "https://localhost:8080/",
     "height": 126
    },
    "colab_type": "code",
    "id": "_F6aDzlz_kH7",
    "outputId": "884654a6-dd7f-447a-9183-c56848194a1c"
   },
   "outputs": [
    {
     "name": "stdout",
     "output_type": "stream",
     "text": [
      "Enter an integer number:23\n",
      "Enter another integer number:12\n",
      "2312\n",
      "35\n",
      "Summation:35\n",
      "Summation: 35\n"
     ]
    }
   ],
   "source": [
    "#as we see that input() funtion use to take input as string\n",
    "#how can we get input as integer\n",
    "#let's see an example\n",
    "n1 = input(\"Enter an integer number:\")\n",
    "n2 = input(\"Enter another integer number:\")\n",
    "n3 = n1 + n2\n",
    "print(n3) #this is only add two string\n",
    "# to convert it into integer let's use int() funtion\n",
    "n1 = int(n1)\n",
    "n2 = int(n2)\n",
    "n3 = n1 + n2\n",
    "print(n3) #this is print the sum of two number\n",
    "#print(\"Summation:\"+n3) this is give error\n",
    "print(\"Summation:\"+str(n3)) #this will give the right answer\n",
    "#we can do another thing\n",
    "print(\"Summation:\",n3)"
   ]
  },
  {
   "cell_type": "code",
   "execution_count": 0,
   "metadata": {
    "colab": {
     "base_uri": "https://localhost:8080/",
     "height": 72
    },
    "colab_type": "code",
    "id": "l1765hz4_kH9",
    "outputId": "f4cb3ed8-7044-4233-835e-41d5ee4fafe9"
   },
   "outputs": [
    {
     "name": "stdout",
     "output_type": "stream",
     "text": [
      "Enter an integer number: 3\n",
      "Enter a float number: 5.4\n",
      "Answer: 8.4\n"
     ]
    }
   ],
   "source": [
    "#type casting(int, float)\n",
    "n = int(input(\"Enter an integer number: \"))\n",
    "m = float(input(\"Enter a float number: \"))\n",
    "ans = n + m\n",
    "print(\"Answer:\",ans)"
   ]
  },
  {
   "cell_type": "code",
   "execution_count": 0,
   "metadata": {
    "colab": {
     "base_uri": "https://localhost:8080/",
     "height": 254
    },
    "colab_type": "code",
    "id": "zQgvf5Uu_kIC",
    "outputId": "c58e1e80-650a-43dd-d90e-90490a9cfc3b"
   },
   "outputs": [
    {
     "name": "stdout",
     "output_type": "stream",
     "text": [
      "Name Shahed \n",
      " Age 24\n",
      "Enter your name:shahed\n",
      "Enter your age:34\n",
      "Enter your address:khagan\n",
      "Your name is: shahed\n",
      "Your age is: 34\n",
      "Your address is: khagan\n",
      "Enter your name,age and address:shahed 34 khagan\n",
      "Name: shahed \n",
      " Age 34 \n",
      " Address khagan\n",
      "24 24 24 24\n"
     ]
    }
   ],
   "source": [
    "#now let's talk more about variables\n",
    "#taking more value in one line\n",
    "name, age = \"Shahed\",24\n",
    "print(\"Name\",name,\"\\n\",\"Age\",age)\n",
    "name,age,address = input(\"Enter your name:\"),int(input(\"Enter your age:\")),input(\"Enter your address:\")\n",
    "#this will take input in new line\n",
    "print(\"Your name is:\",name)\n",
    "print(\"Your age is:\",age)\n",
    "print(\"Your address is:\",address)\n",
    "#same input taking using split() funtion\n",
    "name,age,address = input(\"Enter your name,age and address:\").split()\n",
    "#this will take input in the same line.so use space after taking one input\n",
    "print(\"Name:\",name,\"\\n\",\"Age\",age,\"\\n\",\"Address\",address)\n",
    "#assining many variables in a line\n",
    "a = b = c = d = 24\n",
    "print(a,b,c,d)\n"
   ]
  },
  {
   "cell_type": "code",
   "execution_count": 0,
   "metadata": {
    "colab": {
     "base_uri": "https://localhost:8080/",
     "height": 72
    },
    "colab_type": "code",
    "id": "rQAoJEUX_kIE",
    "outputId": "72ac64e8-19e7-43cc-9129-d5eebf0fd347"
   },
   "outputs": [
    {
     "name": "stdout",
     "output_type": "stream",
     "text": [
      "Hello Shahed your age is 21\n",
      "Hello Shahed your age is 21\n",
      "Hello Shahed your age is 21\n"
     ]
    }
   ],
   "source": [
    "#string formatting\n",
    "# {} --> place holder\n",
    "name = \"Shahed\"\n",
    "age = 21\n",
    "print(\"Hello \"+name+\" your age is \"+str(age))\n",
    "print(\"Hello {} your age is {}\".format(name,age)) #python 3\n",
    "print(f\"Hello {name} your age is {age}\") #python 3.6\n"
   ]
  },
  {
   "cell_type": "code",
   "execution_count": 0,
   "metadata": {
    "colab": {
     "base_uri": "https://localhost:8080/",
     "height": 126
    },
    "colab_type": "code",
    "id": "EbfFjrUm_kIG",
    "outputId": "00cd92d5-05ba-4fec-97e0-5e9ed29e5d17"
   },
   "outputs": [
    {
     "name": "stdout",
     "output_type": "stream",
     "text": [
      "My name is: Shahed and my age is: Twenty One\n",
      "My name is: Shahed and my age is: 21\n",
      "Bangla: 75\n",
      " English: 85\n",
      "Math: 90\n",
      "\n"
     ]
    }
   ],
   "source": [
    "#more details about string formating\n",
    "name = \"Shahed\"\n",
    "print(\"My name is: {} and my age is: {}\".format(name, \"Twenty One\")) #--> as string\n",
    "print(\"My name is: {} and my age is: {}\".format(name, 21)) #--> as integer\n",
    "bangla = 75\n",
    "math = 90\n",
    "english = 85\n",
    "print(\"Bangla: {2}\\n English: {1}\\nMath: {0}\\n\".format(math,english,bangla))"
   ]
  },
  {
   "cell_type": "code",
   "execution_count": 0,
   "metadata": {
    "colab": {
     "base_uri": "https://localhost:8080/",
     "height": 126
    },
    "colab_type": "code",
    "id": "hV7VGVA6_kII",
    "outputId": "541d4f0b-52bc-4f33-c21c-c8c7dfec3908"
   },
   "outputs": [
    {
     "name": "stdout",
     "output_type": "stream",
     "text": [
      "Number one: 36.000000\n",
      "Number two: 24.000000\n",
      "Number one: 36.00\n",
      "Number two: 24.000\n",
      "Result: 33.333333333333336\n",
      "Result: 33.33\n"
     ]
    }
   ],
   "source": [
    "#type convertion string formating\n",
    "n1 = 36\n",
    "n2 = 24\n",
    "print(\"Number one: {0:f}\\nNumber two: {1:f}\".format(n1,n2)) #--> for full decimal digits\n",
    "print(\"Number one: {0:.2f}\\nNumber two: {1:.3f}\".format(n1,n2)) #-->for selected decimal digits\n",
    "#double type\n",
    "print(\"Result: {}\".format(100/3))\n",
    "#float type\n",
    "print(\"Result: {0:.2f}\".format(100/3))"
   ]
  },
  {
   "cell_type": "code",
   "execution_count": 3,
   "metadata": {
    "colab": {
     "base_uri": "https://localhost:8080/",
     "height": 102
    },
    "colab_type": "code",
    "id": "_pwyXHav_kIM",
    "outputId": "b2fea9fe-ba2b-455c-a78c-bb46d12ccfa5"
   },
   "outputs": [
    {
     "name": "stdout",
     "output_type": "stream",
     "text": [
      "My age is:   21\n",
      "My age is: 21\n",
      "My name is: Shahed and my id is: 173-25-258\n",
      "*Shahed**\n",
      "Shahed*\n"
     ]
    }
   ],
   "source": [
    "#Spacing in string formating\n",
    "#Note. spacing starts after 3\n",
    "print(\"My age is: {0:4d}\".format(21)) #--> for two space\n",
    "print(\"My age is: {0:2d}\".format(21)) #-->for zero space\n",
    "#left chevron and right chevron in string\n",
    "print(\"My name is: {0:>4} and my id is: {1:<4}\".format(\"Shahed\",\"173-25-258\"))\n",
    "#caret symbol(^) using\n",
    "#must use caret symbol > the string length\n",
    "print(\"{0:*^9s}\".format(\"Shahed\"))\n",
    "print(\"{0:*^7s}\".format(\"Shahed\"))"
   ]
  },
  {
   "cell_type": "code",
   "execution_count": 0,
   "metadata": {
    "colab": {
     "base_uri": "https://localhost:8080/",
     "height": 181
    },
    "colab_type": "code",
    "id": "SuZyDIqJ_kIP",
    "outputId": "18483169-6905-4a37-970e-1eb6ab495cba"
   },
   "outputs": [
    {
     "name": "stdout",
     "output_type": "stream",
     "text": [
      "1 1 1\n",
      "2 4 8\n",
      "3 9 27\n",
      "4 16 64\n",
      "5 25 125\n",
      "6 36 216\n",
      "7 49 343\n",
      "8 64 512\n",
      "9 81 729\n"
     ]
    }
   ],
   "source": [
    "#formatting inside loop\n",
    "for i in range(1,10):\n",
    "    print(\"{} {} {}\".format(i, i**2, i**3))"
   ]
  },
  {
   "cell_type": "code",
   "execution_count": 0,
   "metadata": {
    "colab": {
     "base_uri": "https://localhost:8080/",
     "height": 163
    },
    "colab_type": "code",
    "id": "CTRzP2SK_kIS",
    "outputId": "258fb921-ded7-45e6-fab7-f6f7ca9fc8bd"
   },
   "outputs": [
    {
     "name": "stdout",
     "output_type": "stream",
     "text": [
      "12 23 34\n",
      "Average: 23.0\n",
      "12\n",
      "23\n",
      "34\n",
      "Average: 23.0\n",
      "12 23 45\n",
      "Average: 26.666666666666668\n"
     ]
    }
   ],
   "source": [
    "#exercise\n",
    "x,y,z = input().split()\n",
    "x = int(x)\n",
    "y = int(y)\n",
    "z = int(z)\n",
    "avg = (x + y + z) / 3\n",
    "print(\"Average: {}\".format(avg))\n",
    "#from video 1\n",
    "x = input()\n",
    "y = input()\n",
    "z = input()\n",
    "print(f\"Average: {(int(z) + int(y) + int(x))/3}\")\n",
    "#from video 2\n",
    "x,y,z = input().split()\n",
    "print(f\"Average: {(int(z) + int(y) + int(x))/3}\")"
   ]
  },
  {
   "cell_type": "code",
   "execution_count": 0,
   "metadata": {
    "colab": {
     "base_uri": "https://localhost:8080/",
     "height": 54
    },
    "colab_type": "code",
    "id": "LSrK4rn7_kIV",
    "outputId": "96b5ea39-e88f-4135-91b7-1edb0bc07fc2"
   },
   "outputs": [
    {
     "name": "stdout",
     "output_type": "stream",
     "text": [
      "h\n",
      "d\n"
     ]
    }
   ],
   "source": [
    "#string indexing\n",
    "name = \"Shahed\"\n",
    "#here\n",
    "#S > 0 , -6\n",
    "#h > 1 , -5\n",
    "#a > 2 , -4\n",
    "#h > 3 , -3\n",
    "#e > 4 , -2\n",
    "#d > 5 , -1\n",
    "#to print last index item use -1\n",
    "print(name[3])\n",
    "print(name[-1])"
   ]
  },
  {
   "cell_type": "code",
   "execution_count": 0,
   "metadata": {
    "colab": {
     "base_uri": "https://localhost:8080/",
     "height": 108
    },
    "colab_type": "code",
    "id": "J8OCcMI8_kIY",
    "outputId": "3c4b0fbc-3169-4494-a9a2-a0a02dd86b18",
    "scrolled": true
   },
   "outputs": [
    {
     "name": "stdout",
     "output_type": "stream",
     "text": [
      "ahed\n",
      "he\n",
      "Shahed\n",
      "hahed\n",
      "Sha\n"
     ]
    }
   ],
   "source": [
    "#string slicing\n",
    "#syntax - [start argument : stop argument]\n",
    "name = \"Shahed\"\n",
    "print(name[2:6])\n",
    "print(name[-3:5])\n",
    "print(name[:])\n",
    "print(name[1:])\n",
    "print(name[:3])\n"
   ]
  },
  {
   "cell_type": "code",
   "execution_count": 0,
   "metadata": {
    "colab": {
     "base_uri": "https://localhost:8080/",
     "height": 72
    },
    "colab_type": "code",
    "id": "jAHOA6xh_kIa",
    "outputId": "ab91eca6-a7fd-4a3e-f1cd-32bc3fc3aa29",
    "scrolled": true
   },
   "outputs": [
    {
     "name": "stdout",
     "output_type": "stream",
     "text": [
      "dehahS\n",
      "dehahS\n",
      "deh\n"
     ]
    }
   ],
   "source": [
    "#step argument\n",
    "name = \"Shahed\"\n",
    "# syntax - [start argument : stop srgument : step argument]\n",
    "print(name[::-1])\n",
    "print(name[-1::-1])\n",
    "print(name[6:2:-1])"
   ]
  },
  {
   "cell_type": "code",
   "execution_count": 0,
   "metadata": {
    "colab": {
     "base_uri": "https://localhost:8080/",
     "height": 72
    },
    "colab_type": "code",
    "id": "XSGvbiPT_kIf",
    "outputId": "7d13549a-2cfc-42d1-e6cf-9f90bbf5ca50",
    "scrolled": true
   },
   "outputs": [
    {
     "name": "stdout",
     "output_type": "stream",
     "text": [
      "shahed\n",
      "Your string is reverse: dehahs\n",
      "Your string in reverse: dehahs\n"
     ]
    }
   ],
   "source": [
    "#exercise\n",
    "n = input()\n",
    "print(\"Your string is reverse: {}\".format(n[::-1]))\n",
    "print(f\"Your string in reverse: {n[::-1]}\")"
   ]
  },
  {
   "cell_type": "code",
   "execution_count": 0,
   "metadata": {
    "colab": {
     "base_uri": "https://localhost:8080/",
     "height": 217
    },
    "colab_type": "code",
    "id": "v5Emoecv_kIh",
    "outputId": "3cac1216-c3e0-48a4-abe4-d7f61b008ff0",
    "scrolled": true
   },
   "outputs": [
    {
     "name": "stdout",
     "output_type": "stream",
     "text": [
      "6\n",
      "15\n",
      "shahed\n",
      "shahed\n",
      "shhaed\n",
      "SHHAED\n",
      "shhaed\n",
      "Shhaed\n",
      "Enter a full stringshahed talukder\n",
      "Enter a character to counth\n",
      "2\n"
     ]
    }
   ],
   "source": [
    "#methods in python\n",
    "# len() -- count length of any string or list\n",
    "print(len(\"Shahed\")) #without storing data in a variable\n",
    "lenght = len(\"Shahed Talukder\")\n",
    "print(lenght)\n",
    "# lower() -- make string in lower case\n",
    "name = input()\n",
    "name = name.lower()\n",
    "print(name)\n",
    "# upper() -- make string in upper case\n",
    "name = input()\n",
    "name = name.upper()\n",
    "print(name)\n",
    "# title() -- make string in title case(first item in upper case and other in lower case)\n",
    "name = input()\n",
    "name = name.title()\n",
    "print(name)\n",
    "# count() -- to count similer type caracter\n",
    "string = input(\"Enter a full string\")\n",
    "char = input(\"Enter a character to count\")\n",
    "c_char = string.count(char)\n",
    "print(c_char)"
   ]
  },
  {
   "cell_type": "code",
   "execution_count": 0,
   "metadata": {
    "colab": {
     "base_uri": "https://localhost:8080/",
     "height": 90
    },
    "colab_type": "code",
    "id": "ijLNXn0V_kIt",
    "outputId": "4cbd63b9-2955-4e28-b991-e4c06b48e09f",
    "scrolled": true
   },
   "outputs": [
    {
     "name": "stdout",
     "output_type": "stream",
     "text": [
      "Enter your string and charshahed talukder,h\n",
      "character count: 2\n",
      "Length of your string is: 15\n",
      "character count: 2\n"
     ]
    }
   ],
   "source": [
    "#exercise\n",
    "# user_name = input(\"Enter your name:\")\n",
    "# u_char = input(\"Enter a character:\")\n",
    "user_name, u_char = input(\"Enter your string and char\").split(\",\")\n",
    "print(f\"character count: {user_name.lower().count(u_char.lower())}\")\n",
    "user_name = user_name.lower()\n",
    "u_char = u_char.lower()\n",
    "u_count = user_name.count(u_char)\n",
    "# for i in range(len(user_name)):\n",
    "#     if u_char == u_char.lower() or u_char == u_char.upper():\n",
    "#         u_count = user_name.count(u_char)\n",
    "#         u_count += 1\n",
    "print(f\"Length of your string is: {len(user_name)}\")\n",
    "print(f\"character count: {u_count}\")\n"
   ]
  },
  {
   "cell_type": "code",
   "execution_count": 0,
   "metadata": {
    "colab": {
     "base_uri": "https://localhost:8080/",
     "height": 108
    },
    "colab_type": "code",
    "id": "uMTepBUu_kIw",
    "outputId": "699c175d-4ac6-4508-9752-1dd405453fa2",
    "scrolled": true
   },
   "outputs": [
    {
     "name": "stdout",
     "output_type": "stream",
     "text": [
      "       Shahed           .........\n",
      "Shahed           .........\n",
      "       Shahed.........\n",
      "Shahed.........\n",
      "Shahed.........\n"
     ]
    }
   ],
   "source": [
    "#strip methos\n",
    "#lstrip() - remove left side spaces\n",
    "#rstrip() - remove right side spaces\n",
    "#strip() - remove all spaces\n",
    "name = \"       Shahed           \"\n",
    "dots = \".........\"\n",
    "print(name+dots)\n",
    "print(name.lstrip()+dots)\n",
    "print(name.rstrip()+dots)\n",
    "print(name.strip()+dots)\n",
    "# replace method\n",
    "print(name.replace(\" \",\"\")+dots)"
   ]
  },
  {
   "cell_type": "code",
   "execution_count": 0,
   "metadata": {
    "colab": {
     "base_uri": "https://localhost:8080/",
     "height": 72
    },
    "colab_type": "code",
    "id": "TL8j805y_kI1",
    "outputId": "6e8ce752-3b7c-4328-8657-45c8ee1938e8",
    "scrolled": true
   },
   "outputs": [
    {
     "name": "stdout",
     "output_type": "stream",
     "text": [
      "shahed,h\n",
      "Length of the string: 6\n",
      "Character count: 2\n"
     ]
    }
   ],
   "source": [
    "#taking input using strip or replace method\n",
    "user_name,u_char = input().split(\",\")\n",
    "print(f\"Length of the string: {len(user_name.strip())}\")\n",
    "print(f\"Character count: {user_name.lower().count(u_char.strip().lower())}\")"
   ]
  },
  {
   "cell_type": "code",
   "execution_count": 0,
   "metadata": {
    "colab": {
     "base_uri": "https://localhost:8080/",
     "height": 54
    },
    "colab_type": "code",
    "id": "JXsgGXWy_kI5",
    "outputId": "d991a5ab-45d2-4b59-a6b7-8ec2f06d37bb",
    "scrolled": false
   },
   "outputs": [
    {
     "name": "stdout",
     "output_type": "stream",
     "text": [
      "shahed\n",
      "Reverse of your name is:dehahs\n"
     ]
    }
   ],
   "source": [
    "#printing string in reverse order\n",
    "name = input() #taking input\n",
    "print(f\"Reverse of your name is:{name[::-1]}\")"
   ]
  },
  {
   "cell_type": "code",
   "execution_count": 0,
   "metadata": {
    "colab": {
     "base_uri": "https://localhost:8080/",
     "height": 90
    },
    "colab_type": "code",
    "id": "JMxe2ATM_kI-",
    "outputId": "8fdd3bda-0038-49be-bea4-1448fa73c422",
    "scrolled": true
   },
   "outputs": [
    {
     "name": "stdout",
     "output_type": "stream",
     "text": [
      "Using of replace() method: Shahed_Talukder_Is_now_in_a_vacation\n",
      "Replacing: Shahed Talukder was now in a vacation\n",
      "Replacing: Shahed was on a sports team. And he is going to do something\n",
      "Replacing: Shahed was on a sports team. And he was going to do something\n"
     ]
    }
   ],
   "source": [
    "#using of replace() method\n",
    "s1 = \"Shahed Talukder Is now in a vacation\"\n",
    "s2 = s1.replace(\" \",\"_\")\n",
    "print(f\"Using of replace() method: {s2}\")\n",
    "#we can change a string with that replace method also like that\n",
    "s3 = s1.replace(\"Is\",\"was\")\n",
    "print(\"Replacing: {}\".format(s3))\n",
    "#if we have same kind of string in some where in string then we can change it by numbering\n",
    "s1 = \"Shahed is on a sports team. And he is going to do something\"\n",
    "s2 = s1.replace(\"is\",\"was\",1)\n",
    "print(f\"Replacing: {s2}\")\n",
    "#if we want to change another (is) then we have to do that\n",
    "s2 = s1.replace(\"is\",\"was\",2)\n",
    "print(\"Replacing: {0}\".format(s2))"
   ]
  },
  {
   "cell_type": "code",
   "execution_count": 0,
   "metadata": {
    "colab": {
     "base_uri": "https://localhost:8080/",
     "height": 54
    },
    "colab_type": "code",
    "id": "trwMPfKH_kJA",
    "outputId": "83e35542-be4e-4eea-eb0a-240e87a64694"
   },
   "outputs": [
    {
     "name": "stdout",
     "output_type": "stream",
     "text": [
      "Findin string: 7\n",
      "Finding string: 35\n"
     ]
    }
   ],
   "source": [
    "#using of find() method\n",
    "s1 = \"Shahed is on a sports team. And he is going to do something\"\n",
    "s2 = s1.find(\"is\")\n",
    "print(f\"Findin string: {s2}\")\n",
    "#after defining position of (is)\n",
    "s2 = s1.find(\"is\", 8) #this will start finding after position 8..where first (is) is in position 7\n",
    "print(\"Finding string: {}\".format(s2))"
   ]
  },
  {
   "cell_type": "code",
   "execution_count": 0,
   "metadata": {
    "colab": {
     "base_uri": "https://localhost:8080/",
     "height": 54
    },
    "colab_type": "code",
    "id": "xTmU72je_kJC",
    "outputId": "7300fc50-a226-48f4-e8da-350cf3cf5b18"
   },
   "outputs": [
    {
     "name": "stdout",
     "output_type": "stream",
     "text": [
      "Finding string: 7\n",
      "Finding string: 35\n"
     ]
    }
   ],
   "source": [
    "#example of find() method\n",
    "s1 = \"Shahed is on a sports team. And he is going to do something\"\n",
    "s2  = s1.find(\"is\")\n",
    "print(\"Finding string: {}\".format(s2))\n",
    "print(\"Finding string: {}\".format(s1.find(\"is\",s2+1)))"
   ]
  },
  {
   "cell_type": "code",
   "execution_count": 0,
   "metadata": {
    "colab": {
     "base_uri": "https://localhost:8080/",
     "height": 35
    },
    "colab_type": "code",
    "id": "SOMMpVBS_kJE",
    "outputId": "b42b3fe9-d5f5-431d-b649-afff3334a52e"
   },
   "outputs": [
    {
     "name": "stdout",
     "output_type": "stream",
     "text": [
      "*Shahed*\n"
     ]
    }
   ],
   "source": [
    "#using of center() method\n",
    "#center usually prints a character (left or right) in a string\n",
    "#example\n",
    "name = \"Shahed\"\n",
    "l = len(name)\n",
    "new_name = name.center(l+2,\"*\")\n",
    "print(new_name)"
   ]
  },
  {
   "cell_type": "code",
   "execution_count": 0,
   "metadata": {
    "colab": {
     "base_uri": "https://localhost:8080/",
     "height": 54
    },
    "colab_type": "code",
    "id": "qc72CNrz_kJG",
    "outputId": "f24d27d0-c5bf-4cb6-ec07-b97419e8f34a"
   },
   "outputs": [
    {
     "name": "stdout",
     "output_type": "stream",
     "text": [
      "shahed\n",
      "****shahed****\n"
     ]
    }
   ],
   "source": [
    "#another example of center() method\n",
    "name = input()\n",
    "l = len(name)\n",
    "new_name = name.center(l+8,\"*\")\n",
    "print(new_name)"
   ]
  },
  {
   "cell_type": "code",
   "execution_count": 0,
   "metadata": {
    "colab": {
     "base_uri": "https://localhost:8080/",
     "height": 163
    },
    "colab_type": "code",
    "id": "qu--gtRH_kJI",
    "outputId": "7123ccd7-c48c-4603-a3ce-cf47c50b31b4"
   },
   "outputs": [
    {
     "name": "stdout",
     "output_type": "stream",
     "text": [
      "shahed\n",
      "s\n",
      "h\n",
      "a\n",
      "h\n",
      "e\n",
      "d\n",
      "shahed\n"
     ]
    }
   ],
   "source": [
    "#why we called strings as immutable(mutation is not possible)\n",
    "string = input()\n",
    "for i in range(len(string)):\n",
    "    print(string[i])\n",
    "# string[1] = \"D\" this is not possible\n",
    "# s1 = string.replace(\"s\",\"D\") this is also not working\n",
    "#so we can not change or muted any character of any string\n",
    "print(string)"
   ]
  },
  {
   "cell_type": "code",
   "execution_count": 0,
   "metadata": {
    "colab": {
     "base_uri": "https://localhost:8080/",
     "height": 108
    },
    "colab_type": "code",
    "id": "1DtEn_0h_kJK",
    "outputId": "a486432d-e3d7-4303-ce37-ce6a40661256"
   },
   "outputs": [
    {
     "name": "stdout",
     "output_type": "stream",
     "text": [
      "shahed\n",
      "43\n",
      "43\n",
      "41\n",
      "82\n"
     ]
    }
   ],
   "source": [
    "#operator in python\n",
    "name = \"sha\"\n",
    "name = name + \"hed\"\n",
    "print(name) #we cam add two string..but can't add two different type of data typed varibles value like\n",
    "age = 21\n",
    "# print(name + age) #this will show error\n",
    "#but we can add int type and float type data like\n",
    "age2 = 22\n",
    "print(age + age2)\n",
    "# we can also operators like that way\n",
    "age += age2\n",
    "print(age) #this will like same as before like\n",
    "age -= 2\n",
    "print(age)\n",
    "age *= 2\n",
    "print(age)"
   ]
  },
  {
   "cell_type": "code",
   "execution_count": 0,
   "metadata": {
    "colab": {
     "base_uri": "https://localhost:8080/",
     "height": 90
    },
    "colab_type": "code",
    "id": "oM0FnSV3_kJP",
    "outputId": "f74b57b1-5b1f-40e4-f9ab-6a16b32247a2"
   },
   "outputs": [
    {
     "name": "stdout",
     "output_type": "stream",
     "text": [
      "Enter your age: 21\n",
      "You are above 14\n",
      "Enter another age: 23\n",
      "You are above 14.\n"
     ]
    }
   ],
   "source": [
    "#if statement\n",
    "#syntax of if statement\n",
    "#if <condition>:\n",
    "    #statement\n",
    "#example\n",
    "if int(input(\"Enter your age: \")) >= 14:\n",
    "    print(\"You are above 14\")\n",
    "# or\n",
    "age = int(input(\"Enter another age: \"))\n",
    "if age >= 18:\n",
    "    print(f\"You are above {14}.\")"
   ]
  },
  {
   "cell_type": "code",
   "execution_count": 0,
   "metadata": {
    "colab": {
     "base_uri": "https://localhost:8080/",
     "height": 54
    },
    "colab_type": "code",
    "id": "igTQKy04_kJR",
    "outputId": "2e3c23dc-8c43-45c5-f716-232865e0c437"
   },
   "outputs": [
    {
     "name": "stdout",
     "output_type": "stream",
     "text": [
      "Enter your age: 14\n",
      "You are under 18\n"
     ]
    }
   ],
   "source": [
    "#pass statement\n",
    "#this use to pass the condition in if or else statement\n",
    "#example\n",
    "age = int(input(\"Enter your age: \"))\n",
    "if age == 18:\n",
    "    pass\n",
    "elif age > 18:\n",
    "    print(\"You are above 18\")\n",
    "else:\n",
    "    print(\"You are under 18\")"
   ]
  },
  {
   "cell_type": "code",
   "execution_count": 0,
   "metadata": {
    "colab": {
     "base_uri": "https://localhost:8080/",
     "height": 35
    },
    "colab_type": "code",
    "id": "8m7B-ePL_kJT",
    "outputId": "8b9b1df8-38d1-4ad4-e963-5ac9878d4249"
   },
   "outputs": [
    {
     "name": "stdout",
     "output_type": "stream",
     "text": [
      "9\n"
     ]
    }
   ],
   "source": [
    "#using random number\n",
    "import random\n",
    "print(random.randint(1,10))\n",
    "# syntax of random package using\n",
    "#random.randint(starting point,endpoint)"
   ]
  },
  {
   "cell_type": "code",
   "execution_count": 0,
   "metadata": {
    "colab": {
     "base_uri": "https://localhost:8080/",
     "height": 54
    },
    "colab_type": "code",
    "id": "a3veKcrB_kJX",
    "outputId": "09d9318f-4fe7-4db8-dc6e-3e3c8cbc8dd0"
   },
   "outputs": [
    {
     "name": "stdout",
     "output_type": "stream",
     "text": [
      "Enter the number you have guessed: 11\n",
      "too low!!\n"
     ]
    }
   ],
   "source": [
    "#exercise with nested if else\n",
    "import random\n",
    "winner_number = random.randint(10,20)\n",
    "guess_number = int(input(\"Enter the number you have guessed: \"))\n",
    "if guess_number == winner_number:\n",
    "    print(\"YOU WIN!!!\")\n",
    "else:\n",
    "    if guess_number < winner_number:\n",
    "        print(\"too low!!\")\n",
    "    else:\n",
    "        print(\"too high!!\")"
   ]
  },
  {
   "cell_type": "code",
   "execution_count": 0,
   "metadata": {
    "colab": {
     "base_uri": "https://localhost:8080/",
     "height": 108
    },
    "colab_type": "code",
    "id": "rcH8x4tg_kJa",
    "outputId": "426068a2-f9ba-4534-fc1b-4b5ec957abd0"
   },
   "outputs": [
    {
     "name": "stdout",
     "output_type": "stream",
     "text": [
      "Enter your user name:shahed\n",
      "Enter your password:32100505\n",
      "You are now logged in!!!\n",
      "Enter your user name:shahed\n",
      "Your are now logged in!!!\n"
     ]
    }
   ],
   "source": [
    "#and, or operator in python\n",
    "user_name = \"shahed\"\n",
    "pass_word = \"32100505\"\n",
    "if (input(\"Enter your user name:\") == user_name) and (input(\"Enter your password:\") == pass_word):\n",
    "    print(\"You are now logged in!!!\")\n",
    "else:\n",
    "    print(\"Your input is wrong!!!\")\n",
    "#that was for (and) operator\n",
    "#now let's see (or) operator\n",
    "if (input(\"Enter your user name:\") == user_name or (input(\"Enter your password:\") == pass_word)):\n",
    "    print(\"Your are now logged in!!!\")\n",
    "else:\n",
    "    print(\"Your input is wrong!!!\")"
   ]
  },
  {
   "cell_type": "code",
   "execution_count": 0,
   "metadata": {
    "colab": {
     "base_uri": "https://localhost:8080/",
     "height": 72
    },
    "colab_type": "code",
    "id": "0h4pgnwS_kJe",
    "outputId": "ccaa09f4-bb78-4f44-b1d1-5c2a0dd879b7"
   },
   "outputs": [
    {
     "name": "stdout",
     "output_type": "stream",
     "text": [
      "Enter your user name:shahed\n",
      "Enter your age:21\n",
      "Sorry, you can't watch coco movie!!\n"
     ]
    }
   ],
   "source": [
    "#exercise of (and,or) operator\n",
    "user_name = input(\"Enter your user name:\")\n",
    "user_age = int(input(\"Enter your age:\"))\n",
    "if (user_name[0] == 'A' or user_name[0] == 'a') and user_age >= 10:\n",
    "    print(\"You can watch coco movie!!\")\n",
    "else:\n",
    "    print(\"Sorry, you can't watch coco movie!!\")"
   ]
  },
  {
   "cell_type": "code",
   "execution_count": 0,
   "metadata": {
    "colab": {
     "base_uri": "https://localhost:8080/",
     "height": 54
    },
    "colab_type": "code",
    "id": "NrMyvMz__kJg",
    "outputId": "2e0e1d4e-eca8-41eb-aecb-f59410f3b817"
   },
   "outputs": [
    {
     "name": "stdout",
     "output_type": "stream",
     "text": [
      "Enter your age:23\n",
      "Your ticket price is 250 tk only!!\n"
     ]
    }
   ],
   "source": [
    "age = int(input(\"Enter your age:\"))\n",
    "if age >= 1 and age <=3:\n",
    "    print(\"Your ticket price is tottaly free!!\")\n",
    "elif age >= 4 and age <= 10:\n",
    "    print(\"Your ticket price is 150 tk only!!\")\n",
    "elif age >= 11 and age <= 60:\n",
    "    print(\"Your ticket price is 250 tk only!!\")\n",
    "elif age > 60:\n",
    "    print(\"Your ticket price is 200 tk only!!\")\n",
    "else:\n",
    "    pass"
   ]
  },
  {
   "cell_type": "code",
   "execution_count": 0,
   "metadata": {
    "colab": {
     "base_uri": "https://localhost:8080/",
     "height": 54
    },
    "colab_type": "code",
    "id": "xDt6ann4_kJj",
    "outputId": "deb2ba76-388f-4799-c111-f3a71d7c3ad9"
   },
   "outputs": [
    {
     "name": "stdout",
     "output_type": "stream",
     "text": [
      "h\n",
      "h is in Shahed Talukder\n"
     ]
    }
   ],
   "source": [
    "#in keyword working with in\n",
    "#in keyword search for a character in string like\n",
    "user_name = \"Shahed Talukder\"\n",
    "char = input()\n",
    "if char in user_name:\n",
    "    print(\"{} is in {}\".format(char,user_name))"
   ]
  },
  {
   "cell_type": "code",
   "execution_count": 0,
   "metadata": {
    "colab": {
     "base_uri": "https://localhost:8080/",
     "height": 54
    },
    "colab_type": "code",
    "id": "gDMJSEVb_kJl",
    "outputId": "39e0208a-7cea-44c1-8a02-758ee5fe3fc9"
   },
   "outputs": [
    {
     "name": "stdout",
     "output_type": "stream",
     "text": [
      "Enter you name here:shahed\n",
      "Your name is: shahed\n"
     ]
    }
   ],
   "source": [
    "#check empty or not(important)\n",
    "name = input(\"Enter you name here:\")\n",
    "if name: #True if string is not empty\n",
    "    print(\"Your name is: {}\".format(name))\n",
    "else:\n",
    "    print(\"You did't enter your name yet!!!\")"
   ]
  },
  {
   "cell_type": "code",
   "execution_count": 0,
   "metadata": {
    "colab": {
     "base_uri": "https://localhost:8080/",
     "height": 199
    },
    "colab_type": "code",
    "id": "S3zC6Tte_kJn",
    "outputId": "743ee972-16db-4782-c4f5-c255aa6dbf38"
   },
   "outputs": [
    {
     "name": "stdout",
     "output_type": "stream",
     "text": [
      "Hello world!!\n",
      "Hello world!!\n",
      "Hello world!!\n",
      "Hello world!!\n",
      "Hello world!!\n",
      "Hello world!!\n",
      "Hello world!!\n",
      "Hello world!!\n",
      "Hello world!!\n",
      "Hello world!!\n"
     ]
    }
   ],
   "source": [
    "#while loop in python\n",
    "i = 0 #initialization\n",
    "while i < 10: #condition\n",
    "    print(\"Hello world!!\") \n",
    "    i += 1 #statement"
   ]
  },
  {
   "cell_type": "code",
   "execution_count": 0,
   "metadata": {
    "colab": {
     "base_uri": "https://localhost:8080/",
     "height": 90
    },
    "colab_type": "code",
    "id": "tnAmOhFS_kJq",
    "outputId": "6c88ba73-2b99-4f50-d83e-599e3fd7f57c"
   },
   "outputs": [
    {
     "name": "stdout",
     "output_type": "stream",
     "text": [
      "23\n",
      "34\n",
      "45\n",
      "Sum of 3 numbers is: 102\n"
     ]
    }
   ],
   "source": [
    "#sum of ten numbers using while loop\n",
    "total = 0\n",
    "i = 0\n",
    "while i < 3:\n",
    "    num = int(input())\n",
    "    total += num\n",
    "    i += 1\n",
    "print(\"Sum of {} numbers is: {}\".format(i,total))"
   ]
  },
  {
   "cell_type": "code",
   "execution_count": 0,
   "metadata": {
    "colab": {
     "base_uri": "https://localhost:8080/",
     "height": 90
    },
    "colab_type": "code",
    "id": "r-2wIr36_kJr",
    "outputId": "814bc5ef-ead9-4f8e-e6cb-a75054c22304"
   },
   "outputs": [
    {
     "name": "stdout",
     "output_type": "stream",
     "text": [
      "Enter a natural number: 2\n",
      "Enter an integer number:34\n",
      "Enter an integer number:45\n",
      "Sum of 2 numbers is: 79\n"
     ]
    }
   ],
   "source": [
    "#exercise 1:\n",
    "total = 0\n",
    "n = int(input(\"Enter a natural number: \"))\n",
    "i = 0\n",
    "while i < n and n > -1:\n",
    "    num = int(input(\"Enter an integer number:\"))\n",
    "    total += num\n",
    "    i += 1\n",
    "print(f\"Sum of {i} numbers is: {total}\")"
   ]
  },
  {
   "cell_type": "code",
   "execution_count": 0,
   "metadata": {
    "colab": {
     "base_uri": "https://localhost:8080/",
     "height": 54
    },
    "colab_type": "code",
    "id": "yFZ2b_E4_kJv",
    "outputId": "1526100b-15c7-4e4f-a14d-78cd74375dcc"
   },
   "outputs": [
    {
     "name": "stdout",
     "output_type": "stream",
     "text": [
      "1234\n",
      "Sum of the digits: 10\n"
     ]
    }
   ],
   "source": [
    "#exercise 2:\n",
    "n1 = input()\n",
    "i = 0\n",
    "sum_number = 0\n",
    "while i < len(n1):\n",
    "    n2 = n1[i]\n",
    "    n2 = int(n2)\n",
    "    sum_number += n2 \n",
    "    i +=1\n",
    "print(\"Sum of the digits: {}\".format(sum_number))"
   ]
  },
  {
   "cell_type": "code",
   "execution_count": 0,
   "metadata": {
    "colab": {
     "base_uri": "https://localhost:8080/",
     "height": 54
    },
    "colab_type": "code",
    "id": "4E196hPbFlmB",
    "outputId": "e0a9d2d0-5cb7-482e-ccb3-d1405aab8a9a"
   },
   "outputs": [
    {
     "name": "stdout",
     "output_type": "stream",
     "text": [
      "12345\n",
      "Summation is: 15\n"
     ]
    }
   ],
   "source": [
    "#exercise 3\n",
    "n = input()\n",
    "sum_number = 0\n",
    "for i in range(len(n)):\n",
    "    sum_number = sum_number + int(n[i])\n",
    "print(\"Summation is: {}\".format(sum_number))"
   ]
  },
  {
   "cell_type": "code",
   "execution_count": 0,
   "metadata": {
    "colab": {
     "base_uri": "https://localhost:8080/",
     "height": 126
    },
    "colab_type": "code",
    "id": "-yZJxUOG_kJw",
    "outputId": "af62b3e7-2e22-4eef-fa68-1a47c3e5e2d2"
   },
   "outputs": [
    {
     "name": "stdout",
     "output_type": "stream",
     "text": [
      "Enter any string: shhaed\n",
      "s : 1\n",
      "h : 2\n",
      "a : 1\n",
      "e : 1\n",
      "d : 1\n"
     ]
    }
   ],
   "source": [
    "string = input(\"Enter any string: \")\n",
    "i = 0\n",
    "temp = \"\"\n",
    "while i < len(string):\n",
    "    if string[i] not in temp:\n",
    "        temp += string[i]\n",
    "        print(\"{} : {}\".format(string[i],string.count(string[i])))\n",
    "    i += 1\n",
    "        "
   ]
  },
  {
   "cell_type": "code",
   "execution_count": 0,
   "metadata": {
    "colab": {},
    "colab_type": "code",
    "id": "-YCf2m2R_kJy"
   },
   "outputs": [],
   "source": [
    "#let's talk about infinite loop\n",
    "#we do this by mistake\n",
    "#while(1):\n",
    "    #print(\"Hello World!!\") example of infinite loop\n",
    "# i = 0\n",
    "# while i < 10:\n",
    "#     print(\"Hello world!!\")\n",
    "#     i = i + 0\n",
    "#this is also an example of infinite loop..\n",
    "# we are not running this in my ide becase this will crash if i run this"
   ]
  },
  {
   "cell_type": "code",
   "execution_count": 0,
   "metadata": {
    "colab": {},
    "colab_type": "code",
    "id": "7o2H3sXI_kJ0"
   },
   "outputs": [],
   "source": [
    "#another infinite loop which will be made by use normally\n",
    "# while True:\n",
    "#     print(\"Hello world!!!\")"
   ]
  },
  {
   "cell_type": "code",
   "execution_count": 0,
   "metadata": {
    "colab": {
     "base_uri": "https://localhost:8080/",
     "height": 217
    },
    "colab_type": "code",
    "id": "waKkLa4N_kJ1",
    "outputId": "40e7e5a3-65f4-4b72-a737-2df6fcda51fc"
   },
   "outputs": [
    {
     "name": "stdout",
     "output_type": "stream",
     "text": [
      "Hello world: 0\n",
      "Hello world: 1\n",
      "Hello world: 2\n",
      "Hello world: 3\n",
      "Hello world: 4\n",
      "Hello world: 5\n",
      "Shahed: 1\n",
      "Shahed: 2\n",
      "Shahed: 3\n",
      "Shahed: 4\n",
      "Shahed: 5\n"
     ]
    }
   ],
   "source": [
    "#for loop in python\n",
    "#syntax of for loop\n",
    "for i in range(6):\n",
    "    print(\"Hello world: {}\".format(i))\n",
    "for i in range(1,6):\n",
    "    print(\"Shahed: {}\".format(i))"
   ]
  },
  {
   "cell_type": "code",
   "execution_count": 0,
   "metadata": {
    "colab": {
     "base_uri": "https://localhost:8080/",
     "height": 35
    },
    "colab_type": "code",
    "id": "hz-eYpTm_kJ5",
    "outputId": "a6e12b5d-9247-43aa-a86a-746469ff50e0"
   },
   "outputs": [
    {
     "name": "stdout",
     "output_type": "stream",
     "text": [
      "Sum of all: 55\n"
     ]
    }
   ],
   "source": [
    "#example of for loop\n",
    "total = 0\n",
    "for i in range(1,11):\n",
    "    total+=i\n",
    "    #print(\"{}\".format(i))\n",
    "print(f\"Sum of all: {total}\")"
   ]
  },
  {
   "cell_type": "code",
   "execution_count": 0,
   "metadata": {
    "colab": {
     "base_uri": "https://localhost:8080/",
     "height": 54
    },
    "colab_type": "code",
    "id": "AFrzOSNK_kJ7",
    "outputId": "5adfbf26-4419-4ddd-aafb-bf26837bf33b"
   },
   "outputs": [
    {
     "name": "stdout",
     "output_type": "stream",
     "text": [
      "Enter an integer number: 2\n",
      "Sum of all: 3\n"
     ]
    }
   ],
   "source": [
    "#another example of for loop\n",
    "total = 0\n",
    "n = int(input(\"Enter an integer number: \"))\n",
    "for i in range(1,n+1):\n",
    "    total += i\n",
    "print(f\"Sum of all: {total}\")"
   ]
  },
  {
   "cell_type": "code",
   "execution_count": 0,
   "metadata": {
    "colab": {
     "base_uri": "https://localhost:8080/",
     "height": 54
    },
    "colab_type": "code",
    "id": "3XbVE6mO_kJ_",
    "outputId": "1c80fd9b-7afb-4c5d-d069-c13227408a01"
   },
   "outputs": [
    {
     "name": "stdout",
     "output_type": "stream",
     "text": [
      "1234\n",
      "Total of that string: 10\n"
     ]
    }
   ],
   "source": [
    "total = 0\n",
    "n = input()\n",
    "for i in range(len(n)):\n",
    "    total += int(n[i])\n",
    "print(\"Total of that string: {}\".format(total))"
   ]
  },
  {
   "cell_type": "code",
   "execution_count": 0,
   "metadata": {
    "colab": {
     "base_uri": "https://localhost:8080/",
     "height": 126
    },
    "colab_type": "code",
    "id": "QoYCuSv6_kKE",
    "outputId": "cfec99df-4c05-4681-9efa-3f36d7362986"
   },
   "outputs": [
    {
     "name": "stdout",
     "output_type": "stream",
     "text": [
      "Enter your name: shahed\n",
      "s : 1\n",
      "h : 2\n",
      "a : 1\n",
      "e : 1\n",
      "d : 1\n"
     ]
    }
   ],
   "source": [
    "string = input(\"Enter your name: \")\n",
    "i = 0\n",
    "temp = \"\"\n",
    "for i in range(len(string)):\n",
    "    if string[i] not in temp:\n",
    "        temp += string[i]\n",
    "        print(\"{} : {}\".format(string[i],string.count(string[i])))"
   ]
  },
  {
   "cell_type": "code",
   "execution_count": 0,
   "metadata": {
    "colab": {
     "base_uri": "https://localhost:8080/",
     "height": 308
    },
    "colab_type": "code",
    "id": "ysSbcPpB_kKH",
    "outputId": "310e6312-b2de-4d2d-8086-bcd3ed29cdd8"
   },
   "outputs": [
    {
     "name": "stdout",
     "output_type": "stream",
     "text": [
      "Value of i 1\n",
      "Value of i 2\n",
      "Value of i 3\n",
      "Value of i 4\n",
      "Value of i 5\n",
      "\n",
      "\n",
      "Value of i 1\n",
      "Value of i 2\n",
      "Value of i 3\n",
      "Value of i 4\n",
      "Value of i 6\n",
      "Value of i 7\n",
      "Value of i 8\n",
      "Value of i 9\n",
      "Value of i 10\n"
     ]
    }
   ],
   "source": [
    "#break and continue keyword\n",
    "#we use break keyword to break the loop\n",
    "# example of break\n",
    "for i in range(1,11):\n",
    "    if i == 6:\n",
    "        break\n",
    "    print(\"Value of i {}\".format(i))\n",
    "#example of continue\n",
    "print(\"\\n\")\n",
    "for i in range(1,11):\n",
    "    if i == 5:\n",
    "        continue\n",
    "    print(\"Value of i {}\".format(i))\n",
    "#here (value of i 5) will not be printed because of continue statement"
   ]
  },
  {
   "cell_type": "code",
   "execution_count": 0,
   "metadata": {
    "colab": {
     "base_uri": "https://localhost:8080/",
     "height": 381
    },
    "colab_type": "code",
    "id": "vKT7afsW_kKJ",
    "outputId": "41e027a3-a7ba-4144-a517-4b393b452c95"
   },
   "outputs": [
    {
     "name": "stdout",
     "output_type": "stream",
     "text": [
      "Guess a number between 1 and 100:59\n",
      "Too high!!\n",
      "Guess again: 40\n",
      "Too high!!\n",
      "Guess again: 34\n",
      "Too high!!\n",
      "Guess again: 22\n",
      "Too high!!\n",
      "Guess again: 11\n",
      "Too low\n",
      "Guess again: 12\n",
      "Too low\n",
      "Guess again: 15\n",
      "Too low\n",
      "Guess again: 19\n",
      "Too low\n",
      "Guess again: 20\n",
      "Too low\n",
      "Guess again: 21\n",
      "you win, and you guessd this number in 10 time\n"
     ]
    }
   ],
   "source": [
    "#modifying number gussing game\n",
    "import random\n",
    "w_num = random.randint(1,100)\n",
    "g_num = int(input(\"Guess a number between 1 and 100:\"))\n",
    "count = 1\n",
    "while True:\n",
    "    if w_num == g_num:\n",
    "        print(\"you win, and you guessd this number in {} time\".format(count))\n",
    "        break\n",
    "    elif g_num > w_num:\n",
    "        print(\"Too high!!\")\n",
    "    else:\n",
    "        print(\"Too low\")\n",
    "    g_num = int(input(\"Guess again: \"))\n",
    "    count += 1"
   ]
  },
  {
   "cell_type": "code",
   "execution_count": 0,
   "metadata": {
    "colab": {
     "base_uri": "https://localhost:8080/",
     "height": 235
    },
    "colab_type": "code",
    "id": "vc3p6o45_kKM",
    "outputId": "4c8a00ab-daae-41bf-b984-349ada2faa7d"
   },
   "outputs": [
    {
     "name": "stdout",
     "output_type": "stream",
     "text": [
      "Guess a number between 1 and 100:34\n",
      "Too low!!\n",
      "Guess again: 45\n",
      "Too low!!\n",
      "Guess again: 60\n",
      "Too low!!\n",
      "Guess again: 70\n",
      "Too low!!\n",
      "Guess again: 80\n",
      "Too high!!\n",
      "Guess again: 75\n",
      "you win, and you guessed this number in 6 times\n"
     ]
    }
   ],
   "source": [
    "#solution from video\n",
    "import random\n",
    "w_num = random.randint(1,100)\n",
    "g_num = int(input(\"Guess a number between 1 and 100:\"))\n",
    "game_over = False\n",
    "guess = 1\n",
    "while not game_over:\n",
    "    if g_num == w_num:\n",
    "        print(f\"you win, and you guessed this number in {guess} times\")\n",
    "        game_over = True\n",
    "    else:\n",
    "        if g_num < w_num:\n",
    "            print(\"Too low!!\")\n",
    "            guess += 1\n",
    "            g_num = int(input(\"Guess again: \"))\n",
    "        else:\n",
    "            print(\"Too high!!\")\n",
    "            guess += 1\n",
    "            g_num = int(input(\"Guess again: \"))"
   ]
  },
  {
   "cell_type": "code",
   "execution_count": 0,
   "metadata": {
    "colab": {
     "base_uri": "https://localhost:8080/",
     "height": 199
    },
    "colab_type": "code",
    "id": "X-FTEMO3_kKN",
    "outputId": "8fb0c67a-441d-43e7-d832-3f8da1f48943"
   },
   "outputs": [
    {
     "name": "stdout",
     "output_type": "stream",
     "text": [
      "Guess a number between 1 and 100:45\n",
      "Too high!!\n",
      "Guess again: 34\n",
      "Too high!!\n",
      "Guess again: 22\n",
      "Too low!!\n",
      "Guess again: 27\n",
      "Too low!!\n",
      "Guess again: 30\n",
      "you win, and you guessed this number in 5 times\n"
     ]
    }
   ],
   "source": [
    "#DRY principle\n",
    "# DRY - don't repeat yourself\n",
    "import random\n",
    "w_num = random.randint(1,100)\n",
    "g_num = int(input(\"Guess a number between 1 and 100:\"))\n",
    "game_over = False #if game_over false\n",
    "guess = 1\n",
    "while not game_over:\n",
    "    if g_num == w_num:\n",
    "        print(f\"you win, and you guessed this number in {guess} times\") #for winners\n",
    "        game_over = True\n",
    "    else:\n",
    "        if g_num < w_num:\n",
    "            print(\"Too low!!\")\n",
    "        else:\n",
    "            print(\"Too high!!\")\n",
    "        guess += 1\n",
    "        g_num = int(input(\"Guess again: \")) #input again"
   ]
  },
  {
   "cell_type": "code",
   "execution_count": 0,
   "metadata": {
    "colab": {
     "base_uri": "https://localhost:8080/",
     "height": 181
    },
    "colab_type": "code",
    "id": "TBltEEvQ_kKO",
    "outputId": "e8dc6fa5-e652-46d6-f21c-489d82afa010"
   },
   "outputs": [
    {
     "name": "stdout",
     "output_type": "stream",
     "text": [
      "1\n",
      "3\n",
      "5\n",
      "7\n",
      "9\n",
      "-1\n",
      "-4\n",
      "-7\n",
      "-10\n"
     ]
    }
   ],
   "source": [
    "#step in for loop\n",
    "#syntax of for loop with step argument\n",
    "#for i in range(start argument, stop argument, step argument)\n",
    "#example\n",
    "for i in range(1,11,2):\n",
    "    print(i)\n",
    "#now let's work with negative numbers\n",
    "for i in range(-1,-11,-3):\n",
    "    print(i)"
   ]
  },
  {
   "cell_type": "code",
   "execution_count": 0,
   "metadata": {
    "colab": {
     "base_uri": "https://localhost:8080/",
     "height": 126
    },
    "colab_type": "code",
    "id": "WniqS8mw_kKQ",
    "outputId": "bf7f2667-3efc-4faa-b6d5-8cc5a94e544d"
   },
   "outputs": [
    {
     "name": "stdout",
     "output_type": "stream",
     "text": [
      "S\n",
      "h\n",
      "a\n",
      "h\n",
      "e\n",
      "d\n"
     ]
    }
   ],
   "source": [
    "#for loop and string\n",
    "name = \"Shahed\"\n",
    "for i in name:\n",
    "    print(i)\n",
    "#string is iterable in python"
   ]
  },
  {
   "cell_type": "code",
   "execution_count": 0,
   "metadata": {
    "colab": {
     "base_uri": "https://localhost:8080/",
     "height": 54
    },
    "colab_type": "code",
    "id": "lUJ2MryP_kKT",
    "outputId": "8097944b-b37e-4bf2-9a28-75ac0362601c"
   },
   "outputs": [
    {
     "name": "stdout",
     "output_type": "stream",
     "text": [
      "Enter any integer number:1234\n",
      "sum of that integer number is: 10\n"
     ]
    }
   ],
   "source": [
    "#example of stirng with for loop\n",
    "string = input(\"Enter any integer number:\")\n",
    "total = 0\n",
    "for i in string:\n",
    "    total += int(i)\n",
    "print(\"sum of that integer number is: {}\".format(total))"
   ]
  },
  {
   "cell_type": "code",
   "execution_count": 0,
   "metadata": {
    "colab": {
     "base_uri": "https://localhost:8080/",
     "height": 35
    },
    "colab_type": "code",
    "id": "K8N4BtDs_kKU",
    "outputId": "19df3cc1-f846-46d3-aab6-7a01f9bf84a8"
   },
   "outputs": [
    {
     "name": "stdout",
     "output_type": "stream",
     "text": [
      "Sum of two number: 3\n"
     ]
    }
   ],
   "source": [
    "#function introduction\n",
    "#let's start with make summation of two numbers\n",
    "def add_two(a,b): #here a and b is parameters\n",
    "    return a + b\n",
    "\n",
    "total = add_two(1,2) #here 1 and 2 is arguments\n",
    "print(\"Sum of two number: {}\".format(total))\n",
    "#this is a basic of funtion"
   ]
  },
  {
   "cell_type": "code",
   "execution_count": 0,
   "metadata": {
    "colab": {
     "base_uri": "https://localhost:8080/",
     "height": 126
    },
    "colab_type": "code",
    "id": "QDAAFOXH_kKW",
    "outputId": "1b98b5b3-731b-450a-afb9-81e194eef881"
   },
   "outputs": [
    {
     "name": "stdout",
     "output_type": "stream",
     "text": [
      "Enter an integer number:23\n",
      "Enter an integer number:34\n",
      "Summation of two number: 57\n",
      "Subtraction of two number: -11\n",
      "Multiplication of two number: 782\n",
      "Division of two number: 0.6765\n"
     ]
    }
   ],
   "source": [
    "#let's make another program with python funtion\n",
    "def add_two(a,b):\n",
    "    return a + b\n",
    "def sub_two(a,b):\n",
    "    return a - b\n",
    "def mul_two(a,b):\n",
    "    return a * b\n",
    "def div_two(a,b):\n",
    "    return a / b\n",
    "\n",
    "if __name__ == '__main__':\n",
    "    x = int(input(\"Enter an integer number:\"))\n",
    "    y = int(input(\"Enter an integer number:\"))\n",
    "    sum_total = add_two(x,y)\n",
    "    sub_total = sub_two(x,y)\n",
    "    mul_total = mul_two(x,y)\n",
    "    div_total = div_two(x,y)\n",
    "    \n",
    "    print(\"Summation of two number: {}\".format(sum_total))\n",
    "    print(f\"Subtraction of two number: {sub_total}\")\n",
    "    print(\"Multiplication of two number: {0}\".format(mul_total))\n",
    "    print(\"Division of two number:\",round(div_total,4))"
   ]
  },
  {
   "cell_type": "code",
   "execution_count": 0,
   "metadata": {
    "colab": {
     "base_uri": "https://localhost:8080/",
     "height": 54
    },
    "colab_type": "code",
    "id": "1f_RcyMK_kKY",
    "outputId": "2d394a75-8cf8-486d-a481-714b640c4302"
   },
   "outputs": [
    {
     "name": "stdout",
     "output_type": "stream",
     "text": [
      "Enter your name:shahed\n",
      "Your name in reverse: dehahs\n"
     ]
    }
   ],
   "source": [
    "def rev_string(string):\n",
    "    return string[::-1]\n",
    "\n",
    "if __name__=='__main__':\n",
    "    name = input(\"Enter your name:\")\n",
    "    print(\"Your name in reverse: {}\".format(rev_string(name)))"
   ]
  },
  {
   "cell_type": "code",
   "execution_count": 0,
   "metadata": {
    "colab": {
     "base_uri": "https://localhost:8080/",
     "height": 54
    },
    "colab_type": "code",
    "id": "1RCGlqir_kKb",
    "outputId": "8fd8332a-ca84-466b-9c75-f5ede0f2ca73"
   },
   "outputs": [
    {
     "name": "stdout",
     "output_type": "stream",
     "text": [
      "Enter an integer number: 23\n",
      "Your number is odd\n"
     ]
    }
   ],
   "source": [
    "#even odd check with python function\n",
    "def check_even_odd(num_check):\n",
    "    if num_check % 2 == 0:\n",
    "        return \"even\"\n",
    "    else:\n",
    "        return \"odd\"\n",
    "\n",
    "if __name__ == '__main__':\n",
    "    num = int(input(\"Enter an integer number: \"))\n",
    "    check = check_even_odd(num)\n",
    "    print(\"Your number is {}\".format(check))\n",
    "\n",
    "#we can bypass number and string with same parameter in python"
   ]
  },
  {
   "cell_type": "code",
   "execution_count": 0,
   "metadata": {
    "colab": {
     "base_uri": "https://localhost:8080/",
     "height": 54
    },
    "colab_type": "code",
    "id": "bpIR9-gv_kKc",
    "outputId": "6c123d38-b0ff-4b7e-b6f1-da4f3225df37"
   },
   "outputs": [
    {
     "name": "stdout",
     "output_type": "stream",
     "text": [
      "Enter an integer number: 12\n",
      "Your number is even\n"
     ]
    }
   ],
   "source": [
    "def check_even_odd(num_check):\n",
    "    if num_check % 2 == 0:\n",
    "        return \"even\"\n",
    "    return \"odd\"\n",
    "\n",
    "if __name__ == '__main__':\n",
    "    num = int(input(\"Enter an integer number: \"))\n",
    "    check = check_even_odd(num)\n",
    "    print(\"Your number is {}\".format(check))"
   ]
  },
  {
   "cell_type": "code",
   "execution_count": 0,
   "metadata": {
    "colab": {
     "base_uri": "https://localhost:8080/",
     "height": 54
    },
    "colab_type": "code",
    "id": "KyZ5GJN0_kKh",
    "outputId": "5af1381a-1d2f-458d-fdbd-9f4af6850edf"
   },
   "outputs": [
    {
     "name": "stdout",
     "output_type": "stream",
     "text": [
      "Enter an integer number:34\n",
      "Your number is True\n"
     ]
    }
   ],
   "source": [
    "#another two process with bolian value\n",
    "def is_check(num):\n",
    "    if num % 2 == 0:\n",
    "        return True\n",
    "    else:\n",
    "        return False\n",
    "\n",
    "if __name__ == '__main__':\n",
    "    num = int(input(\"Enter an integer number:\"))\n",
    "    check = is_check(num)\n",
    "    print(\"Your number is {}\".format(check))"
   ]
  },
  {
   "cell_type": "code",
   "execution_count": 0,
   "metadata": {
    "colab": {
     "base_uri": "https://localhost:8080/",
     "height": 54
    },
    "colab_type": "code",
    "id": "xrSV7j2Q_kKj",
    "outputId": "c7bdfe8c-bd09-4c9d-9a66-d384e142ff10"
   },
   "outputs": [
    {
     "name": "stdout",
     "output_type": "stream",
     "text": [
      "Enter an integer number:13\n",
      "Your number is False\n"
     ]
    }
   ],
   "source": [
    "#most simple process\n",
    "def is_check(num): #here num is parameter\n",
    "    return num % 2 == 0\n",
    "    \n",
    "if __name__ == '__main__':\n",
    "    num = int(input(\"Enter an integer number:\"))\n",
    "    check = is_check(num) #here num is argument\n",
    "    print(\"Your number is {}\".format(check))"
   ]
  },
  {
   "cell_type": "code",
   "execution_count": 0,
   "metadata": {
    "colab": {
     "base_uri": "https://localhost:8080/",
     "height": 35
    },
    "colab_type": "code",
    "id": "FzQMND9__kKk",
    "outputId": "7f2a8a19-4f36-48d8-b2d9-5c3f839b2f3a"
   },
   "outputs": [
    {
     "name": "stdout",
     "output_type": "stream",
     "text": [
      "My name is: Shahed\n"
     ]
    }
   ],
   "source": [
    "#we can return any value without any parameter in python\n",
    "def name():\n",
    "    return \"Shahed\"\n",
    "\n",
    "if __name__ == '__main__':\n",
    "    name = name()\n",
    "    print(f\"My name is: {name}\")"
   ]
  },
  {
   "cell_type": "code",
   "execution_count": 0,
   "metadata": {
    "colab": {
     "base_uri": "https://localhost:8080/",
     "height": 72
    },
    "colab_type": "code",
    "id": "FfFU4MBb_kKl",
    "outputId": "34d0abce-e219-475d-fab4-de6030d4fa7f"
   },
   "outputs": [
    {
     "name": "stdout",
     "output_type": "stream",
     "text": [
      "Enter an integer number: 34\n",
      "Enter another integer number: 12\n",
      "34 is biggest number\n"
     ]
    }
   ],
   "source": [
    "def find_greater(x,y):\n",
    "    if x > y:\n",
    "        return x\n",
    "    return y\n",
    "\n",
    "if __name__ == '__main__':\n",
    "    a = int(input(\"Enter an integer number: \"))\n",
    "    b = int(input(\"Enter another integer number: \"))\n",
    "    c = find_greater(a,b)\n",
    "    print(\"{} is biggest number\".format(c))"
   ]
  },
  {
   "cell_type": "code",
   "execution_count": 0,
   "metadata": {
    "colab": {
     "base_uri": "https://localhost:8080/",
     "height": 54
    },
    "colab_type": "code",
    "id": "Cn5owKa0_kKn",
    "outputId": "b87fd48b-422b-4487-8786-29baea405571"
   },
   "outputs": [
    {
     "name": "stdout",
     "output_type": "stream",
     "text": [
      "23 34 12\n",
      "The greatest number is: 34\n"
     ]
    }
   ],
   "source": [
    "def find_greater_number(x,y,z):\n",
    "    if x > y and x > z:\n",
    "        return x\n",
    "    elif y > x and y > z:\n",
    "        return y\n",
    "    return z\n",
    "\n",
    "if __name__ == '__main__':\n",
    "    a,b,c = map(int, input().split())\n",
    "    greatest = find_greater_number(a,b,c)\n",
    "    print(f\"The greatest number is: {greatest}\")\n",
    "    "
   ]
  },
  {
   "cell_type": "code",
   "execution_count": 0,
   "metadata": {
    "colab": {
     "base_uri": "https://localhost:8080/",
     "height": 35
    },
    "colab_type": "code",
    "id": "f8zYSlIa_kKo",
    "outputId": "1df69d9f-a11b-4dad-f3de-a41dd8c116f4"
   },
   "outputs": [
    {
     "name": "stdout",
     "output_type": "stream",
     "text": [
      "Greatest number is: 35\n"
     ]
    }
   ],
   "source": [
    "#we can call a function inside a function like c language\n",
    "def find_greatest():\n",
    "#     c = find_greater_number(23,34,25)\n",
    "    d = find_greater(find_greater_number(23,34,25),35)\n",
    "    return d\n",
    "\n",
    "if __name__ == '__main__':\n",
    "    x = find_greatest()\n",
    "    print(\"Greatest number is: {}\".format(x))"
   ]
  },
  {
   "cell_type": "code",
   "execution_count": 0,
   "metadata": {
    "colab": {
     "base_uri": "https://localhost:8080/",
     "height": 54
    },
    "colab_type": "code",
    "id": "4JrBvsY0_kKp",
    "outputId": "8cabb1b7-5747-4525-bcb2-c44712de747f"
   },
   "outputs": [
    {
     "name": "stdout",
     "output_type": "stream",
     "text": [
      "Enter a string: shahs\n",
      "Palindriom is : True\n"
     ]
    }
   ],
   "source": [
    "#funtion exercise 2\n",
    "def is_palindrome(string):\n",
    "    st = string[::-1]\n",
    "    if string == st:\n",
    "        return True\n",
    "    return False\n",
    "\n",
    "def is_palindrome(string):\n",
    "    if string == string[::-1]:\n",
    "        return True\n",
    "    return False\n",
    "\n",
    "def is_palindrome(string):\n",
    "    return string == string[::-1]\n",
    "\n",
    "\n",
    "if __name__ == '__main__':\n",
    "    string = input(\"Enter a string: \")\n",
    "    check = is_palindrome(string)\n",
    "    print(\"Palindriom is : {}\".format(check))"
   ]
  },
  {
   "cell_type": "code",
   "execution_count": 0,
   "metadata": {
    "colab": {
     "base_uri": "https://localhost:8080/",
     "height": 72
    },
    "colab_type": "code",
    "id": "g2_JzOy__kKr",
    "outputId": "4f37f593-19ff-478a-859e-24355439b437"
   },
   "outputs": [
    {
     "name": "stdout",
     "output_type": "stream",
     "text": [
      "1 2 3 4 5 6 7 8 9 10 \n",
      "\n",
      "1, 2, 3, 4, 5, 6, 7, 8, 9, 10, "
     ]
    }
   ],
   "source": [
    "#new method of printing in the same line\n",
    "for i in range(1,11):\n",
    "    print(i, end = \" \")\n",
    "print(\"\\n\")\n",
    "for i in range(1,11):\n",
    "    print(i, end = \", \")"
   ]
  },
  {
   "cell_type": "code",
   "execution_count": 0,
   "metadata": {
    "colab": {
     "base_uri": "https://localhost:8080/",
     "height": 35
    },
    "colab_type": "code",
    "id": "E-3YVI0P_kKs",
    "outputId": "f9eabbd7-6b83-48f2-e1d3-1eae4b0a20a9"
   },
   "outputs": [
    {
     "name": "stdout",
     "output_type": "stream",
     "text": [
      "0 1 1 2 3 5 8 13 21 34 55 89 144 233 377 610 987 1597 2584 4181 6765 10946 17711 28657 46368 "
     ]
    }
   ],
   "source": [
    "#fibonacchi number printing in python\n",
    "def fibonacchi_seq(n):\n",
    "    a , b = 0 , 1\n",
    "    if n == 1:\n",
    "        print(a)\n",
    "    elif n == 2:\n",
    "        print(a, b)\n",
    "    else:\n",
    "        print(a,b, end = \" \")\n",
    "        for i in range(n - 2):\n",
    "            a, b = b , a + b\n",
    "            print(b, end = \" \")\n",
    "\n",
    "if __name__ == '__main__':\n",
    "    fibonacchi_seq(25)"
   ]
  },
  {
   "cell_type": "code",
   "execution_count": 0,
   "metadata": {
    "colab": {
     "base_uri": "https://localhost:8080/",
     "height": 72
    },
    "colab_type": "code",
    "id": "NVCVJ4FR_kKx",
    "outputId": "54b079c9-c281-46c8-9639-14e0428d1000"
   },
   "outputs": [
    {
     "name": "stdout",
     "output_type": "stream",
     "text": [
      "My name is: Shahed\n",
      "My age is: 24\n",
      "My address is: Tangail\n"
     ]
    }
   ],
   "source": [
    "# default parameter\n",
    "#An special value (None)\n",
    "#we can make default parameter in last parameter only\n",
    "# without making last parameter as default we can't make any other parameter as default parameter\n",
    "def My_Info(name,age = None,address = 'Unknown'): #here if we don't make address as default parameter we can't make age \n",
    "#     as default parameter\n",
    "    print(\"My name is: {}\".format(name))\n",
    "    print(\"My age is: {}\".format(age))\n",
    "    print(\"My address is: {}\".format(address))\n",
    "\n",
    "if __name__ == '__main__':\n",
    "    My_Info(\"Shahed\",24,\"Tangail\")"
   ]
  },
  {
   "cell_type": "code",
   "execution_count": 0,
   "metadata": {
    "colab": {
     "base_uri": "https://localhost:8080/",
     "height": 90
    },
    "colab_type": "code",
    "id": "QmrOB3OR_kKz",
    "outputId": "74c31d02-adf2-4d5c-afcc-934e7475a593"
   },
   "outputs": [
    {
     "name": "stdout",
     "output_type": "stream",
     "text": [
      "Value of x: 9\n",
      "4\n",
      "Value of x: 4\n",
      "value of x: 4\n"
     ]
    }
   ],
   "source": [
    "#scope variable\n",
    "x = 9\n",
    "\n",
    "def change_value():\n",
    "    global x\n",
    "    x = func()\n",
    "    return x\n",
    "\n",
    "def func():\n",
    "    i = int(input())\n",
    "    return i\n",
    "\n",
    "if __name__ == '__main__': \n",
    "    print(\"Value of x: {}\".format(x))\n",
    "    z = change_value()\n",
    "    print(\"Value of x: {}\".format(z))\n",
    "    print(\"value of x: {}\".format(x))"
   ]
  },
  {
   "cell_type": "code",
   "execution_count": 0,
   "metadata": {
    "colab": {
     "base_uri": "https://localhost:8080/",
     "height": 181
    },
    "colab_type": "code",
    "id": "IEpc2zG__kK1",
    "outputId": "4d4cc505-521c-4b83-f339-f2d958261cea"
   },
   "outputs": [
    {
     "name": "stdout",
     "output_type": "stream",
     "text": [
      "[1, 2, 3, 4]\n",
      "['shahed', 'ashik', 'azad', 'rajib']\n",
      "[1, 2, 3, 'shahed', 'ashik', 0.56, 1.56, None]\n",
      "2\n",
      "['shahed', 'ashik']\n",
      "None\n",
      "[1, 2, 'two', 'shahed', 'ashik', 0.56, 1.56, None]\n",
      "[1, 't', 'w', 'o']\n",
      "[1, 'three', 'four']\n"
     ]
    }
   ],
   "source": [
    "#list \n",
    "number = [1,2,3,4]\n",
    "print(number)\n",
    "words = [\"shahed\",\"ashik\",\"azad\",\"rajib\"]\n",
    "print(words)\n",
    "mixed = [1,2,3,\"shahed\",\"ashik\",0.56,1.56,None] #None is not as same as 0 value\n",
    "print(mixed)\n",
    "print(number[1])\n",
    "print(words[:2])\n",
    "print(mixed[-1])\n",
    "#we can change list element directly\n",
    "mixed[2] = 'two'\n",
    "print(mixed)\n",
    "mixed[1:] = 'two' #if we want to change every element from position [1]\n",
    "print(mixed)\n",
    "mixed[1:] = ['three','four']\n",
    "print(mixed) #if we want to store another element separately"
   ]
  },
  {
   "cell_type": "code",
   "execution_count": 0,
   "metadata": {
    "colab": {
     "base_uri": "https://localhost:8080/",
     "height": 72
    },
    "colab_type": "code",
    "id": "86ycn3QF_kK3",
    "outputId": "2715b4ea-06cf-4aa9-ca34-2154b4f4c31c"
   },
   "outputs": [
    {
     "name": "stdout",
     "output_type": "stream",
     "text": [
      "['shahed', 'ashik']\n",
      "['shahed', 'ashik', 'rajib']\n",
      "['rajib', 'ashik']\n"
     ]
    }
   ],
   "source": [
    "#adding data to list\n",
    "name = ['shahed','ashik']\n",
    "print(name)\n",
    "name.append('rajib')\n",
    "print(name)\n",
    "new_name = [] #a list without any elements\n",
    "new_name.append('rajib')\n",
    "new_name.append('ashik')\n",
    "print(new_name)\n"
   ]
  },
  {
   "cell_type": "code",
   "execution_count": 0,
   "metadata": {
    "colab": {
     "base_uri": "https://localhost:8080/",
     "height": 272
    },
    "colab_type": "code",
    "id": "Y6L0WV8t_kK5",
    "outputId": "ee202ef5-715f-4272-df2a-ab194f7c1956"
   },
   "outputs": [
    {
     "name": "stdout",
     "output_type": "stream",
     "text": [
      "['azad', 'shahed', 'rajib', 'ashik']\n",
      "['jackfruit', 'mango', 'pineapple', 'hilsha', 'magpi', 'tiger']\n",
      "['jackfruit', 'mango', 'pineapple', 'hilsha', 'magpi', 'tiger']\n",
      "['hilsha', 'magpi', 'tiger']\n",
      "['hilsha', 'magpi', 'tiger', ['jackfruit', 'mango', 'pineapple', 'hilsha', 'magpi', 'tiger']]\n",
      "hilsha\n",
      "magpi\n",
      "tiger\n",
      "['jackfruit', 'mango', 'pineapple', 'hilsha', 'magpi', 'tiger']\n",
      "jackfruit\n",
      "mango\n",
      "pineapple\n",
      "hilsha\n",
      "['azad', ['jackfruit', 'mango', 'pineapple', 'hilsha', 'magpi', 'tiger'], 'shahed', 'rajib', 'ashik']\n"
     ]
    }
   ],
   "source": [
    "#more methods to add data in list\n",
    "#insert method helps to add element in position in list\n",
    "name = ['shahed','ashik']\n",
    "name.insert(1,'rajib')\n",
    "name.insert(0,'azad')\n",
    "print(name)\n",
    "#join or concatenate two list\n",
    "fruits = ['jackfruit','mango','pineapple']\n",
    "animals = ['hilsha','magpi','tiger']\n",
    "new_list = fruits + animals\n",
    "print(new_list)\n",
    "fruits.extend(animals) #this will extend two list\n",
    "print(fruits)\n",
    "print(animals)\n",
    "animals.append(fruits) #this will insert a list into another list\n",
    "print(animals)\n",
    "for i in range(len(animals)):\n",
    "    print(animals[i])\n",
    "#print(animals[3][0]) #to print another elements of another list\n",
    "for i in range(len(animals)):\n",
    "    print(animals[3][i])\n",
    "name.insert(1,fruits)\n",
    "print(name)"
   ]
  },
  {
   "cell_type": "code",
   "execution_count": 0,
   "metadata": {
    "colab": {
     "base_uri": "https://localhost:8080/",
     "height": 72
    },
    "colab_type": "code",
    "id": "J1HbY_Pf_kK8",
    "outputId": "21132cb5-1dea-40d1-b30f-841b8333c9c6"
   },
   "outputs": [
    {
     "name": "stdout",
     "output_type": "stream",
     "text": [
      "['jackfruit', 'mango', 'pineapple', 'hilsha', 'magpi']\n",
      "['jackfruit', 'mango', 'hilsha', 'magpi']\n",
      "['jackfruit', 'mango', 'magpi']\n"
     ]
    }
   ],
   "source": [
    "# removing or deleting elements from list\n",
    "# pop method\n",
    "fruits.pop() #if we don't pass any argument this method will delete last element\n",
    "print(fruits)\n",
    "fruits.pop(2)#after passing argument this will delete indexed postion element\n",
    "print(fruits)\n",
    "#remove method()\n",
    "#this helps to remove element if we don't know the position of that elemet like\n",
    "fruits.remove('hilsha')\n",
    "print(fruits)"
   ]
  },
  {
   "cell_type": "code",
   "execution_count": 0,
   "metadata": {
    "colab": {
     "base_uri": "https://localhost:8080/",
     "height": 35
    },
    "colab_type": "code",
    "id": "eo-4Qa5V_kK9",
    "outputId": "14f3a696-0ea9-4007-b418-d8799391c587"
   },
   "outputs": [
    {
     "name": "stdout",
     "output_type": "stream",
     "text": [
      "['shahed', 'azad', 'shahed', 'ashik', 'rajib', 'noman']\n"
     ]
    }
   ],
   "source": [
    "another_list = ['shahed','ashik','azad','shahed','ashik','rajib','noman']\n",
    "another_list.remove('ashik') #if you have two elements with same value this will delete first element\n",
    "print(another_list)"
   ]
  },
  {
   "cell_type": "code",
   "execution_count": 0,
   "metadata": {
    "colab": {
     "base_uri": "https://localhost:8080/",
     "height": 35
    },
    "colab_type": "code",
    "id": "wZNvxZKf_kK-",
    "outputId": "83c14587-3891-433a-d4e8-3c189b0f70f8"
   },
   "outputs": [
    {
     "name": "stdout",
     "output_type": "stream",
     "text": [
      "apple is not present\n"
     ]
    }
   ],
   "source": [
    "#in keyword with list\n",
    "another_list = ['shahed','ashik','azad','shahed','ashik','rajib','noman']\n",
    "if 'apple' in fruits:\n",
    "    print(\"apple is present\")\n",
    "else:\n",
    "    print(\"apple is not present\")"
   ]
  },
  {
   "cell_type": "code",
   "execution_count": 0,
   "metadata": {
    "colab": {
     "base_uri": "https://localhost:8080/",
     "height": 145
    },
    "colab_type": "code",
    "id": "SLKpoyTF_kK_",
    "outputId": "f5a29da3-7fac-4a51-e34f-17dbdcca4d3f"
   },
   "outputs": [
    {
     "name": "stdout",
     "output_type": "stream",
     "text": [
      "2\n",
      "['ashik', 'ashik', 'azad', 'noman', 'rajib', 'shahed', 'shahed']\n",
      "[1, 3, 5, 12, 17, 21]\n",
      "[1, 3, 5, 12, 17, 21]\n",
      "[12, 1, 3, 5, 17, 21]\n",
      "[]\n",
      "[12, 1, 3, 5, 17, 21]\n"
     ]
    }
   ],
   "source": [
    "#some more list methods\n",
    "#count\n",
    "#sort method\n",
    "#sorted function\n",
    "#reverse\n",
    "#clear\n",
    "#copy\n",
    "another_list = ['shahed','ashik','azad','shahed','ashik','rajib','noman']\n",
    "a = another_list.count('shahed') #count method can count how many elements are exist with the same name\n",
    "print(a)\n",
    "another_list.sort() #this sort the whole list elements in ascending order or alphabetic order\n",
    "print(another_list)\n",
    "num = [12,1,3,5,17,21]\n",
    "num.sort()\n",
    "print(num)\n",
    "#if we want just print the elements in sorted order but don't want to sort the elements\n",
    "num = [12,1,3,5,17,21]\n",
    "print(sorted(num)) #this just print your elements in sorted order\n",
    "print(num)\n",
    "#clear method is used to delete the whole list\n",
    "num.clear()\n",
    "print(num) #thsi delete all elements from a list\n",
    "num = [12,1,3,5,17,21]\n",
    "num1 = num.copy()\n",
    "print(num1)"
   ]
  },
  {
   "cell_type": "code",
   "execution_count": 0,
   "metadata": {
    "colab": {
     "base_uri": "https://localhost:8080/",
     "height": 763
    },
    "colab_type": "code",
    "id": "-fHXQIVk_kLB",
    "outputId": "e16d7357-59bf-451b-a56e-2c70ee60b8b5"
   },
   "outputs": [
    {
     "name": "stdout",
     "output_type": "stream",
     "text": [
      "False\n",
      "True\n",
      "s\n",
      "h\n",
      "a\n",
      "h\n",
      "e\n",
      "d\n",
      "a\n",
      "s\n",
      "h\n",
      "i\n",
      "k\n",
      "a\n",
      "z\n",
      "a\n",
      "d\n",
      "s\n",
      "h\n",
      "a\n",
      "h\n",
      "e\n",
      "d\n",
      "a\n",
      "s\n",
      "h\n",
      "i\n",
      "k\n",
      "r\n",
      "a\n",
      "j\n",
      "i\n",
      "b\n",
      "n\n",
      "o\n",
      "m\n",
      "a\n",
      "n\n",
      "rabit\n",
      "horse\n",
      "orange\n"
     ]
    }
   ],
   "source": [
    "#is vs equal in python list comparison\n",
    "f1 = ['orange','apple','pear']\n",
    "f2 = ['banana','kiwi','apple','banana']\n",
    "f3 = ['orange','apple','pear']\n",
    "print(f1 == f2)\n",
    "print(f1 == f3)\n",
    "#normal pratise exercise\n",
    "another_list = ['shahed','ashik','azad','shahed','ashik','rajib','noman',['rabit','horse','orange']]\n",
    "a_list = [1,2,3,4,5,[2,5,6]]\n",
    "count = 0\n",
    "for i in another_list:\n",
    "    if type(another_list) is list:\n",
    "        for j in i:\n",
    "            print(j)\n",
    "    else:\n",
    "        print(i)\n",
    "#problem still not found"
   ]
  },
  {
   "cell_type": "code",
   "execution_count": 0,
   "metadata": {
    "colab": {
     "base_uri": "https://localhost:8080/",
     "height": 217
    },
    "colab_type": "code",
    "id": "s2pX1XmK_kLD",
    "outputId": "73c21255-976f-4dfa-cad0-33e52f4382cc"
   },
   "outputs": [
    {
     "name": "stdout",
     "output_type": "stream",
     "text": [
      "['shahed', ' ashik', ' azad', ' shahed', ' ashik', ' rajib', ' noman', ' rabit', ' horse', ' orange']\n",
      "shahed\n",
      " ashik\n",
      " azad\n",
      " shahed\n",
      " ashik\n",
      " rajib\n",
      " noman\n",
      " rabit\n",
      " horse\n",
      " orange\n"
     ]
    }
   ],
   "source": [
    "another_list = ['shahed','ashik','azad','shahed','ashik','rajib','noman',['rabit','horse','orange']]\n",
    "another_list = str(another_list)\n",
    "another_list = another_list.replace(\"[\",\"\").replace(\"]\",\"\").replace(\"'\",\"\")\n",
    "another_list = another_list.split(\",\")\n",
    "print(another_list)\n",
    "for i in another_list:\n",
    "    print(i)"
   ]
  },
  {
   "cell_type": "code",
   "execution_count": 0,
   "metadata": {
    "colab": {
     "base_uri": "https://localhost:8080/",
     "height": 163
    },
    "colab_type": "code",
    "id": "3r7295qv_kLF",
    "outputId": "9e9b8cf0-d9c9-4b61-fdff-6d1b76f7700f"
   },
   "outputs": [
    {
     "name": "stdout",
     "output_type": "stream",
     "text": [
      "Enter your name and age:shahed 21\n",
      "Enter how many elements you want to enter: 3\n",
      "Enter your elements: shahed\n",
      "Enter your elements: ashik\n",
      "Enter your elements: azad\n",
      "['shahed', 'ashik', 'azad']\n",
      "shahed\n",
      "21\n"
     ]
    }
   ],
   "source": [
    "#split() and join method\n",
    "name,age = input(\"Enter your name and age:\").split() #split method\n",
    "#now let's talk about join method\n",
    "n = int(input(\"Enter how many elements you want to enter: \"))\n",
    "all_in = []\n",
    "for i in range(n):\n",
    "    elem = input(\"Enter your elements: \")\n",
    "    all_in.append(elem)\n",
    "print(name)\n",
    "print(age)"
   ]
  },
  {
   "cell_type": "code",
   "execution_count": 0,
   "metadata": {
    "colab": {
     "base_uri": "https://localhost:8080/",
     "height": 72
    },
    "colab_type": "code",
    "id": "_OoUkJgF_kLH",
    "outputId": "39b02898-0b9f-4fc7-e3ca-5e5c5617107a"
   },
   "outputs": [
    {
     "name": "stdout",
     "output_type": "stream",
     "text": [
      "shahed\n",
      "ashik\n",
      "azad\n"
     ]
    }
   ],
   "source": [
    "new = \"\\n\".join(all_in)\n",
    "print(new)"
   ]
  },
  {
   "cell_type": "code",
   "execution_count": 0,
   "metadata": {
    "colab": {},
    "colab_type": "code",
    "id": "V7J4jEhS_kLI"
   },
   "outputs": [],
   "source": [
    "#list vs array\n",
    "#we can add only same type of element in array\n",
    "#we can add different type of element in list\n",
    "# python have array module to use like c or c++ named numpy\n",
    "# javascript array = python list /flexible"
   ]
  },
  {
   "cell_type": "code",
   "execution_count": 0,
   "metadata": {
    "colab": {
     "base_uri": "https://localhost:8080/",
     "height": 54
    },
    "colab_type": "code",
    "id": "F0mxkIjR_kLJ",
    "outputId": "478dce9c-9626-4053-d9cd-675b086a470a"
   },
   "outputs": [
    {
     "name": "stdout",
     "output_type": "stream",
     "text": [
      "shahed\n",
      "['ashik', 'azad', 'shahed', 'rajib']\n"
     ]
    }
   ],
   "source": [
    "# difference between list and string\n",
    "# strings are immutable\n",
    "# list are mutable\n",
    "#like\n",
    "s = \"shahed\"\n",
    "s.title()\n",
    "print(s) #here varible of s is not changing but\n",
    "s = [\"shahed\",\"ashik\",\"azad\"]\n",
    "s.sort() #here we see that the list is in order..means a function named sort is changing\n",
    "s.append(\"rajib\")\n",
    "print(s)\n",
    "#so we can not change in string but we can change in list by calling function"
   ]
  },
  {
   "cell_type": "code",
   "execution_count": 0,
   "metadata": {
    "colab": {
     "base_uri": "https://localhost:8080/",
     "height": 272
    },
    "colab_type": "code",
    "id": "Prmq8ZzL_kLK",
    "outputId": "eca30589-a168-44f9-830d-961fe24455cb"
   },
   "outputs": [
    {
     "name": "stdout",
     "output_type": "stream",
     "text": [
      "jackfruit\n",
      "mango\n",
      "lichi\n",
      "None\n",
      "345\n",
      "56.7\n",
      "arabic\n",
      "jackfruit\n",
      "mango\n",
      "lichi\n",
      "None\n",
      "345\n",
      "56.7\n",
      "arabic\n"
     ]
    }
   ],
   "source": [
    "#looping in list\n",
    "list1 = [\"jackfruit\",\"mango\",\"lichi\",None,345,56.7,\"arabic\"]\n",
    "for i in list1: #using for loop\n",
    "    print(i)\n",
    "i = 0\n",
    "while i < len(list1): #using while loop\n",
    "    print(list1[i])\n",
    "    i+=1"
   ]
  },
  {
   "cell_type": "code",
   "execution_count": 0,
   "metadata": {
    "colab": {
     "base_uri": "https://localhost:8080/",
     "height": 126
    },
    "colab_type": "code",
    "id": "go2tKLz7_kLL",
    "outputId": "3eca6614-6982-4f37-d6b3-7a2ef7fa09d1"
   },
   "outputs": [
    {
     "name": "stdout",
     "output_type": "stream",
     "text": [
      "['shahed', ' 26']\n",
      "shahed\n",
      " 24\n",
      "Enter your name and age:shahed 21\n",
      "shahed\n",
      "21\n"
     ]
    }
   ],
   "source": [
    "#join and split\n",
    "user_info = \"shahed, 26\".split(\",\")\n",
    "print(user_info)\n",
    "\n",
    "name,age = \"shahed, 24\".split(\",\")\n",
    "print(name)\n",
    "print(age)\n",
    "\n",
    "name,age = input(\"Enter your name and age:\").split(\" \")\n",
    "print(name)\n",
    "print(age)"
   ]
  },
  {
   "cell_type": "code",
   "execution_count": 0,
   "metadata": {
    "colab": {
     "base_uri": "https://localhost:8080/",
     "height": 90
    },
    "colab_type": "code",
    "id": "0fqPU1IqR20h",
    "outputId": "466d8ede-ba09-4d15-82d0-bd67fcfdcb0e"
   },
   "outputs": [
    {
     "name": "stdout",
     "output_type": "stream",
     "text": [
      "Enter your name and age:shahed 21\n",
      "shahed\n",
      "21\n",
      "shahed,21\n"
     ]
    }
   ],
   "source": [
    "#join method\n",
    "#convert list to string\n",
    "user_info = input(\"Enter your name and age:\").split(\" \")\n",
    "print(user_info[0])\n",
    "print(user_info[1])\n",
    "print(','.join(user_info))"
   ]
  },
  {
   "cell_type": "code",
   "execution_count": 0,
   "metadata": {
    "colab": {
     "base_uri": "https://localhost:8080/",
     "height": 290
    },
    "colab_type": "code",
    "id": "x0NNW5jMwtRF",
    "outputId": "1d8b9e62-2e17-4828-d099-9ba40386e4d7"
   },
   "outputs": [
    {
     "name": "stdout",
     "output_type": "stream",
     "text": [
      "[1, 2, 3]\n",
      "[4, 5, 6]\n",
      "[5, 6, 9]\n",
      "items are:  3\n",
      "1\n",
      "2\n",
      "3\n",
      "4\n",
      "5\n",
      "6\n",
      "5\n",
      "6\n",
      "9\n",
      "Items are: 9\n",
      "5\n"
     ]
    }
   ],
   "source": [
    "#list inside list\n",
    "count = 0\n",
    "matrix = [[1,2,3],[4,5,6],[5,6,9]]\n",
    "for i in matrix:\n",
    "  count += 1\n",
    "  print(i)\n",
    "print(\"items are: \",count)\n",
    "count = 0\n",
    "for j in matrix:\n",
    "  for i in j:\n",
    "    print(i)\n",
    "    count += 1\n",
    "print(\"Items are:\",count)\n",
    "print(matrix[2][0])"
   ]
  },
  {
   "cell_type": "code",
   "execution_count": 0,
   "metadata": {
    "colab": {
     "base_uri": "https://localhost:8080/",
     "height": 90
    },
    "colab_type": "code",
    "id": "vEt90yT4yKMR",
    "outputId": "8f9b5120-4a3e-4b47-91f9-75886503ab2a"
   },
   "outputs": [
    {
     "name": "stdout",
     "output_type": "stream",
     "text": [
      "[1, 2, 3, 4, 5, 6, 7, 8, 9, 10]\n",
      "[1, 2, 3, 4, 5, 6, 7, 8, 9]\n",
      "10\n",
      "Position of 6 is: 5\n"
     ]
    }
   ],
   "source": [
    "#range function\n",
    "numbers = list(range(1,11))\n",
    "print(numbers)\n",
    "popped_item = numbers.pop()\n",
    "print(numbers)\n",
    "print(popped_item)\n",
    "print(\"Position of 6 is:\",numbers.index(6))"
   ]
  },
  {
   "cell_type": "code",
   "execution_count": 0,
   "metadata": {
    "colab": {
     "base_uri": "https://localhost:8080/",
     "height": 35
    },
    "colab_type": "code",
    "id": "uMC2xfe9z8j_",
    "outputId": "8eb2ce4f-65e2-49c4-e167-163fea9148f4"
   },
   "outputs": [
    {
     "name": "stdout",
     "output_type": "stream",
     "text": [
      "Negative list: [-1, -2, -3, -4, -5, -6, -7, -8, -9]\n"
     ]
    }
   ],
   "source": [
    "def negative_list(l1):\n",
    "  negative = []\n",
    "  for i in l1:\n",
    "    negative.append(-i)\n",
    "  return negative\n",
    "\n",
    "if __name__ == '__main__':\n",
    "  num = list(range(1,10))\n",
    "  print(\"Negative list: {}\".format(negative_list(num)))"
   ]
  },
  {
   "cell_type": "code",
   "execution_count": 0,
   "metadata": {
    "colab": {
     "base_uri": "https://localhost:8080/",
     "height": 35
    },
    "colab_type": "code",
    "id": "w69GWaxG5OXV",
    "outputId": "ecbe3a71-c4db-4b8d-fac6-854497a20fe3"
   },
   "outputs": [
    {
     "name": "stdout",
     "output_type": "stream",
     "text": [
      "Square numbers: [1, 4, 9, 16, 25, 36, 49, 64, 81]\n"
     ]
    }
   ],
   "source": [
    "def square_list(l1):\n",
    "  square = []\n",
    "  for i in l1:\n",
    "    square.append(i*i)\n",
    "  return square\n",
    "\n",
    "if __name__ == '__main__':\n",
    "  num = list(range(1,10))\n",
    "  print(f\"Square numbers: {square_list(num)}\")"
   ]
  },
  {
   "cell_type": "code",
   "execution_count": 0,
   "metadata": {
    "colab": {
     "base_uri": "https://localhost:8080/",
     "height": 54
    },
    "colab_type": "code",
    "id": "Qa8hQzsj57Um",
    "outputId": "076155ac-9d2b-424c-c9b7-741974a7b892"
   },
   "outputs": [
    {
     "name": "stdout",
     "output_type": "stream",
     "text": [
      "[1, 2, 3, 4, 5, 6, 7, 8, 9, 10]\n",
      "Reverse list: [10, 9, 8, 7, 6, 5, 4, 3, 2, 1]\n"
     ]
    }
   ],
   "source": [
    "def reverse_list(list1):\n",
    "  reverse = []\n",
    "  for i in range(len(list1)):\n",
    "    new = list1.pop()\n",
    "    reverse.append(new)\n",
    "  return reverse\n",
    "\n",
    "if __name__ == '__main__':\n",
    "  numbers = list(range(1,11))\n",
    "  print(numbers)\n",
    "  print(\"Reverse list: {}\".format(reverse_list(numbers)))"
   ]
  },
  {
   "cell_type": "code",
   "execution_count": 0,
   "metadata": {
    "colab": {
     "base_uri": "https://localhost:8080/",
     "height": 35
    },
    "colab_type": "code",
    "id": "yP4ZdXi39fJQ",
    "outputId": "b2462c9b-2f97-4047-daf0-b7b8f9f94fc4"
   },
   "outputs": [
    {
     "name": "stdout",
     "output_type": "stream",
     "text": [
      "Reversed Elements list is: ['cba', 'fed', 'ihg']\n"
     ]
    }
   ],
   "source": [
    "def reverse_list_elem(list2):\n",
    "  new_list = []\n",
    "  for i in list2:\n",
    "    new_list.append(i[::-1])\n",
    "  return new_list\n",
    "\n",
    "\n",
    "if __name__ == '__main__':\n",
    "  elements = ['abc','def','ghi']\n",
    "  print(\"Reversed Elements list is: {}\".format(reverse_list_elem(elements)))"
   ]
  },
  {
   "cell_type": "code",
   "execution_count": 0,
   "metadata": {
    "colab": {
     "base_uri": "https://localhost:8080/",
     "height": 35
    },
    "colab_type": "code",
    "id": "2AbDPct9-ktt",
    "outputId": "2293bdae-f21c-418b-d668-af921c6abba3"
   },
   "outputs": [
    {
     "name": "stdout",
     "output_type": "stream",
     "text": [
      "Even Odd list is: [[1, 3, 5, 7, 9], [2, 4, 6, 8, 10]] \n"
     ]
    }
   ],
   "source": [
    "\n",
    "def seperate_list(list1):\n",
    "  even = []\n",
    "  odd = []\n",
    "  new_list = []\n",
    "  for i in list1:\n",
    "    if i % 2 == 0:\n",
    "      even.append(i)\n",
    "    else:\n",
    "      odd.append(i)\n",
    "  new_list = [odd,even]\n",
    "  return new_list\n",
    "\n",
    "if __name__ == '__main__':\n",
    "  num = list(range(1,11))\n",
    "  print(\"Even Odd list is: {} \".format(seperate_list(num)))"
   ]
  },
  {
   "cell_type": "code",
   "execution_count": 0,
   "metadata": {
    "colab": {
     "base_uri": "https://localhost:8080/",
     "height": 35
    },
    "colab_type": "code",
    "id": "skG57pbHC1lr",
    "outputId": "f7b076f3-9cf8-46d0-d2ba-1a6aa7782a4a"
   },
   "outputs": [
    {
     "name": "stdout",
     "output_type": "stream",
     "text": [
      "Common list: [1, 6]\n"
     ]
    }
   ],
   "source": [
    "def common_list(list1,list2):\n",
    "  new_list = []\n",
    "  for i in list1:\n",
    "    for j in list2:\n",
    "      if i == j:\n",
    "        new_list.append(i)\n",
    "  return new_list\n",
    "\n",
    "if __name__ == '__main__':\n",
    "  l1 = [1,2,6,7]\n",
    "  l2 = [1,6,3,9]\n",
    "  print(\"Common list: {}\".format(common_list(l1,l2)))"
   ]
  },
  {
   "cell_type": "code",
   "execution_count": 0,
   "metadata": {
    "colab": {
     "base_uri": "https://localhost:8080/",
     "height": 35
    },
    "colab_type": "code",
    "id": "XCgzNTC6EK9A",
    "outputId": "55e059d9-429c-4485-c458-9b874c1a06f0"
   },
   "outputs": [
    {
     "name": "stdout",
     "output_type": "stream",
     "text": [
      "Common list: [1, 6]\n"
     ]
    }
   ],
   "source": [
    "def common_list(list1,list2):\n",
    "  new_list = []\n",
    "  for i in list1:\n",
    "    if i in list2:\n",
    "      new_list.append(i)\n",
    "  return new_list\n",
    "\n",
    "if __name__ == '__main__':\n",
    "  l1 = [1,2,6,7]\n",
    "  l2 = [1,6,3,9]\n",
    "  print(\"Common list: {}\".format(common_list(l1,l2)))"
   ]
  },
  {
   "cell_type": "code",
   "execution_count": 0,
   "metadata": {
    "colab": {
     "base_uri": "https://localhost:8080/",
     "height": 72
    },
    "colab_type": "code",
    "id": "ef8zMCmHQl-W",
    "outputId": "32730de8-b08d-4987-8667-0136d7fe0d60"
   },
   "outputs": [
    {
     "name": "stdout",
     "output_type": "stream",
     "text": [
      "Difference is: 52\n",
      "4\n",
      "56\n"
     ]
    }
   ],
   "source": [
    "#min and max function in list\n",
    "def differ(list1):\n",
    "  return max(list1) - min(list1)\n",
    "\n",
    "if __name__ == '__main__':\n",
    "  numbers = [23,11,4,56,45]\n",
    "  print(\"Difference is: {}\".format(differ(numbers)))\n",
    "  print(min(numbers))\n",
    "  print(max(numbers))"
   ]
  },
  {
   "cell_type": "code",
   "execution_count": 0,
   "metadata": {
    "colab": {
     "base_uri": "https://localhost:8080/",
     "height": 35
    },
    "colab_type": "code",
    "id": "uEKHigq0_5-Q",
    "outputId": "83b5e21b-dc8b-406a-c58e-b2b3f9be37a4"
   },
   "outputs": [
    {
     "name": "stdout",
     "output_type": "stream",
     "text": [
      "Total list element: 2\n"
     ]
    }
   ],
   "source": [
    "def list_count(list1):\n",
    "  count = 0\n",
    "  for i in list1:\n",
    "    if type(i) == list:\n",
    "      count += 1\n",
    "  return count\n",
    "\n",
    "if __name__ == '__main__':\n",
    "  list1 = [1,2,5,[4,5,6],[5,8,7]]\n",
    "  print(\"Total list element: {}\".format(list_count(list1)))"
   ]
  },
  {
   "cell_type": "code",
   "execution_count": 0,
   "metadata": {
    "colab": {
     "base_uri": "https://localhost:8080/",
     "height": 54
    },
    "colab_type": "code",
    "id": "9KmnJi_zDphe",
    "outputId": "8f111950-4c76-440d-9e90-afa710f4d676"
   },
   "outputs": [
    {
     "name": "stdout",
     "output_type": "stream",
     "text": [
      "[1, 2, 3, 'Shahed', [1, 5, 6], 6, 4, 9]\n",
      "[1, 2, 3, 'Shahed', [1, 5, 6], 6, 4, 9, 2, 9, 5]\n"
     ]
    }
   ],
   "source": [
    "list1 = [1,2,3]\n",
    "list1.append(\"Shahed\")\n",
    "list1.append([1,5,6])\n",
    "list1.extend([6,4,9])\n",
    "list2 = [2,9,5]\n",
    "print(list1)\n",
    "print(list1 + list2)"
   ]
  },
  {
   "cell_type": "code",
   "execution_count": 0,
   "metadata": {
    "colab": {
     "base_uri": "https://localhost:8080/",
     "height": 199
    },
    "colab_type": "code",
    "id": "rctFb4YnGAX4",
    "outputId": "e79e3700-2768-494f-aeb8-a19367ce1739"
   },
   "outputs": [
    {
     "name": "stdout",
     "output_type": "stream",
     "text": [
      "('one', 'two', 'three') ('sunday', 'monday')\n",
      "Type of exmple is <class 'tuple'>\n",
      "<class 'int'>\n",
      "<class 'tuple'>\n",
      "<class 'tuple'>\n",
      "shahed\n",
      "ashik\n",
      "azad\n",
      "('new1', 'new2', ['new3'])\n",
      "('new1', 'new2', ['new3', 'shahed'])\n"
     ]
    }
   ],
   "source": [
    "#tuples intro\n",
    "#we can't insert,update,or delete any kind of element from tuple\n",
    "#we can only find the index number of elemnet\n",
    "#we can slice tuple elements\n",
    "#we can count the number of elements\n",
    "\n",
    "\n",
    "\n",
    "example  = (\"one\",\"two\",\"three\")\n",
    "days  = (\"sunday\",\"monday\")\n",
    "print(example,days)\n",
    "print(\"Type of exmple is {}\".format(type(example)))\n",
    "\n",
    "#tuple with one element\n",
    "nums = (1) # is not a tuple...this will show use that this is just an integer value\n",
    "print(type(nums))\n",
    "nums = (1,) #now this is a tuple\n",
    "print(type(nums))\n",
    "\n",
    "#tuple without parathesis\n",
    "\n",
    "guiters = \"shahed\", \"ashik\",\"azad\"\n",
    "print(type(guiters))\n",
    "\n",
    "#tuple unpacking\n",
    "x,y,z = (guiters)\n",
    "print(x)\n",
    "print(y)\n",
    "print(z)\n",
    "\n",
    "#tuple with list\n",
    "new_elem = (\"new1\",\"new2\",[\"new3\",\"new4\"])\n",
    "new_elem[2].pop()\n",
    "print(new_elem)\n",
    "new_elem[2].append(\"shahed\")\n",
    "print(new_elem)"
   ]
  },
  {
   "cell_type": "code",
   "execution_count": 0,
   "metadata": {
    "colab": {
     "base_uri": "https://localhost:8080/",
     "height": 72
    },
    "colab_type": "code",
    "id": "z0E_GWuuKEXz",
    "outputId": "6eadb72d-4707-4640-a91c-ae215417d7f9"
   },
   "outputs": [
    {
     "name": "stdout",
     "output_type": "stream",
     "text": [
      "<class 'tuple'>\n",
      "(9, 20)\n",
      "13 42\n"
     ]
    }
   ],
   "source": [
    "#when a funtion return two values it returns a tuple object from funtion\n",
    "\n",
    "def sum_mul(i1,i2):\n",
    "  add = i1 + i2\n",
    "  mul = i1 * i2\n",
    "  return add,mul\n",
    "\n",
    "if __name__ == '__main__':\n",
    "  print(type(sum_mul(2,3)))\n",
    "  print(sum_mul(5,4))\n",
    "  #as it is returning a tuple we can assign with two different variable\n",
    "  x,y = sum_mul(6,7)\n",
    "  print(x,y)"
   ]
  },
  {
   "cell_type": "code",
   "execution_count": 0,
   "metadata": {
    "colab": {
     "base_uri": "https://localhost:8080/",
     "height": 90
    },
    "colab_type": "code",
    "id": "VyqHg1V3Olik",
    "outputId": "a87f49ad-f476-4278-d625-d63458e5e1e2"
   },
   "outputs": [
    {
     "name": "stdout",
     "output_type": "stream",
     "text": [
      "10\n",
      "1\n",
      "10\n",
      "55\n"
     ]
    }
   ],
   "source": [
    "tp1 = tuple(range(1,11))\n",
    "print(len(tp1))\n",
    "print(min(tp1))\n",
    "print(max(tp1))\n",
    "print(sum(tp1))"
   ]
  },
  {
   "cell_type": "code",
   "execution_count": 0,
   "metadata": {
    "colab": {
     "base_uri": "https://localhost:8080/",
     "height": 68
    },
    "colab_type": "code",
    "id": "akDulZ-RQ_fa",
    "outputId": "810be0ca-acaf-4c08-d323-2aad86e2bf17"
   },
   "outputs": [
    {
     "name": "stdout",
     "output_type": "stream",
     "text": [
      "{'name': 'shahed', 'age': 24}\n",
      "{'name': 'Shahed', 'age': 24}\n",
      "Shahed 24\n"
     ]
    }
   ],
   "source": [
    "#what is dictionary\n",
    "#an unorderd collection of data in key : value pair\n",
    "\n",
    "user = {'name' : 'shahed', 'age' : 24}\n",
    "print(user)\n",
    "\n",
    "user = dict(name = 'Shahed', age = 24)\n",
    "print(user)\n",
    "\n",
    "print(user['name'],user['age'])"
   ]
  },
  {
   "cell_type": "code",
   "execution_count": 0,
   "metadata": {
    "colab": {
     "base_uri": "https://localhost:8080/",
     "height": 34
    },
    "colab_type": "code",
    "id": "nJGZ-hikS02g",
    "outputId": "f9193ea8-2925-47fc-db87-a045b2ede862"
   },
   "outputs": [
    {
     "name": "stdout",
     "output_type": "stream",
     "text": [
      "{'user_name': 'shahed', 'email': 'shahedtalukder51@gmail.com', 'age': 21, 'address': 'East Adalotpara,Tangail', 'fav_movie': ['end_game', 'infinity war', 'dark web']}\n"
     ]
    }
   ],
   "source": [
    "user_info = dict(\n",
    "    user_name = 'shahed',\n",
    "    email = 'shahedtalukder51@gmail.com',\n",
    "    age = 21,\n",
    "    address = 'East Adalotpara,Tangail',\n",
    "    fav_movie = ['end_game','infinity war','dark web']\n",
    ")\n",
    "\n",
    "\n",
    "print(user_info)"
   ]
  },
  {
   "cell_type": "code",
   "execution_count": 0,
   "metadata": {
    "colab": {
     "base_uri": "https://localhost:8080/",
     "height": 35
    },
    "colab_type": "code",
    "id": "cjkit_u4U0ko",
    "outputId": "a2c8b803-d1c7-4b97-84d8-221e494a7740"
   },
   "outputs": [
    {
     "name": "stdout",
     "output_type": "stream",
     "text": [
      "{'user1': {'user_name': 'shahed', 'age': 21, 'password': 'asdfasdf'}, 'user2': {'user_name': 'ashik', 'age': 22, 'password': 'asfdasdf'}, 'user3': {'user_name': 'azad', 'age': 23, 'password': 'asdfasdf'}}\n"
     ]
    }
   ],
   "source": [
    "user_info = dict(\n",
    "    user1 = dict(\n",
    "        user_name = \"shahed\",\n",
    "        age = 21,\n",
    "        password = 'asdfasdf'\n",
    "    ),\n",
    "    user2 = dict(\n",
    "        user_name = \"ashik\",\n",
    "        age = 22,\n",
    "        password = 'asfdasdf'\n",
    "    ),\n",
    "    user3 = dict(\n",
    "        user_name = 'azad',\n",
    "        age = 23,\n",
    "        password = 'asdfasdf'\n",
    "    )\n",
    ")\n",
    "\n",
    "print(user_info)"
   ]
  },
  {
   "cell_type": "code",
   "execution_count": 0,
   "metadata": {
    "colab": {
     "base_uri": "https://localhost:8080/",
     "height": 90
    },
    "colab_type": "code",
    "id": "Cuf2Z04rWEYq",
    "outputId": "a92144b5-319a-4ba6-8cfa-34f3b8724dea"
   },
   "outputs": [
    {
     "name": "stdout",
     "output_type": "stream",
     "text": [
      "Enter your name:shahed\n",
      "Enter your age:21\n",
      "Enter your password:pass\n",
      "{'user1': {'name': 'shahed', 'age': '21', 'password': 'pass'}}\n"
     ]
    }
   ],
   "source": [
    "user_info = {}\n",
    "name = input(\"Enter your name:\")\n",
    "age = input(\"Enter your age:\")\n",
    "password = input(\"Enter your password:\")\n",
    "count = 1\n",
    "string = 'user'\n",
    "user_name = string + str(count)\n",
    "user_info = {\n",
    "    user_name : {\n",
    "        'name' : name,\n",
    "        'age' : age,\n",
    "        'password' : password\n",
    "    }\n",
    "}\n",
    "print(user_info)\n",
    "\n",
    "#lets make it deep\n",
    "#mr google..\n"
   ]
  },
  {
   "cell_type": "code",
   "execution_count": 0,
   "metadata": {
    "colab": {
     "base_uri": "https://localhost:8080/",
     "height": 235
    },
    "colab_type": "code",
    "id": "EGvXY6kSX8Gd",
    "outputId": "b0246123-d231-4e5f-a385-6ea803e8be8d"
   },
   "outputs": [
    {
     "name": "stdout",
     "output_type": "stream",
     "text": [
      "Enter how many times you want to enter your information:2\n",
      "Enter your First name:shahed\n",
      "Enter your Last name:talukder\n",
      "Enter your age:21\n",
      "Enter your address:khagan\n",
      "Inserted successfully\n",
      "Enter your First name:ashik\n",
      "Enter your Last name:mia\n",
      "Enter your age:21\n",
      "Enter your address:tangail\n",
      "Inserted successfully\n",
      "{'user1': {'fname': 'shahed', 'lname': 'talukder', 'age': '21', 'address': 'khagan'}, 'user2': {'fname': 'ashik', 'lname': 'mia', 'age': '21', 'address': 'tangail'}}\n"
     ]
    }
   ],
   "source": [
    "user_info = {}\n",
    "new_user = {}\n",
    "num = int(input(\"Enter how many times you want to enter your information:\"))\n",
    "count = 1\n",
    "string = 'user'\n",
    "for i in range(num):\n",
    "  fname = input(\"Enter your First name:\")\n",
    "  lname = input(\"Enter your Last name:\")\n",
    "  age = input(\"Enter your age:\")\n",
    "  address = input(\"Enter your address:\")\n",
    "  user_number = string+str(count)\n",
    "  user_info = {\n",
    "    user_number : {\n",
    "        'fname' : fname,\n",
    "        'lname' : lname,\n",
    "        'age' : age,\n",
    "        'address' : address\n",
    "    }\n",
    "  }\n",
    "  print(\"Inserted successfully\")\n",
    "  new_user.update(user_info)\n",
    "  count+=1\n",
    "print(new_user)\n",
    "  "
   ]
  },
  {
   "cell_type": "code",
   "execution_count": 0,
   "metadata": {
    "colab": {
     "base_uri": "https://localhost:8080/",
     "height": 35
    },
    "colab_type": "code",
    "id": "dYYTDJVirmMG",
    "outputId": "526e1231-fe44-41b7-ad8e-17bc98d81732"
   },
   "outputs": [
    {
     "name": "stdout",
     "output_type": "stream",
     "text": [
      "Key present\n"
     ]
    }
   ],
   "source": [
    "# in keyword in dictionary and iterations in dictionary\n",
    "\n",
    "user_info = dict(\n",
    "    name = 'shahed',\n",
    "    age = 24,\n",
    "    fav_movies = ['end_game','infinite war','hellowen'],\n",
    "    fev_tunes = ['hello','faded','on my way']\n",
    ")\n",
    "\n",
    "\n",
    "#check if key exist in dictionary\n",
    "if 'name' in user_info:\n",
    "  print(\"Key present\")\n",
    "else:\n",
    "  print('Not present')\n",
    "  \n",
    "#check if value exist in dictionary\n"
   ]
  },
  {
   "cell_type": "code",
   "execution_count": 0,
   "metadata": {
    "colab": {
     "base_uri": "https://localhost:8080/",
     "height": 108
    },
    "colab_type": "code",
    "id": "G5soVfpPs7j9",
    "outputId": "311b6362-c5b7-485e-8218-37765247f354"
   },
   "outputs": [
    {
     "name": "stdout",
     "output_type": "stream",
     "text": [
      "Popped item is ['hello', 'faded', 'on my way']\n",
      "<class 'list'>\n",
      "{'name': 'shahed', 'age': 24, 'fav_movies': ['end_game', 'infinite war', 'hellowen'], 'address': 'khagan bazar'}\n",
      "('address', 'khagan bazar')\n",
      "<class 'tuple'>\n"
     ]
    }
   ],
   "source": [
    "#add update and pop\n",
    "user_info = dict(\n",
    "    name = 'shahed',\n",
    "    age = 24,\n",
    "    fav_movies = ['end_game','infinite war','hellowen'],\n",
    "    fev_tunes = ['hello','faded','on my way']\n",
    ")\n",
    "popped_item = user_info.pop('fev_tunes')\n",
    "print(f\"Popped item is {popped_item}\")\n",
    "print(type(popped_item))\n",
    "user_info['address'] = 'khagan bazar'\n",
    "print(user_info)\n",
    "popped_item = user_info.popitem()\n",
    "print(popped_item)\n",
    "print(type(popped_item))\n"
   ]
  },
  {
   "cell_type": "code",
   "execution_count": 0,
   "metadata": {
    "colab": {
     "base_uri": "https://localhost:8080/",
     "height": 35
    },
    "colab_type": "code",
    "id": "l2ld9cgNvzug",
    "outputId": "8654ac01-64d5-42c3-e773-828aec241379"
   },
   "outputs": [
    {
     "name": "stdout",
     "output_type": "stream",
     "text": [
      "{'name': 'shahed', 'age': 24, 'fav_movies': ['end_game', 'infinite war', 'hellowen'], 'fev_tunes': ['hello', 'faded', 'on my way'], 'state': 'Dhaka', 'hobbies': ['singing', 'dancing']}\n"
     ]
    }
   ],
   "source": [
    "#updating key and element\n",
    "user_info = dict(\n",
    "    name = 'shahed',\n",
    "    age = 24,\n",
    "    fav_movies = ['end_game','infinite war','hellowen'],\n",
    "    fev_tunes = ['hello','faded','on my way']\n",
    ")\n",
    "\n",
    "more_info = dict(\n",
    "    state = 'Dhaka',\n",
    "    hobbies = ['singing','dancing']\n",
    ")\n",
    "\n",
    "user_info.update(more_info)\n",
    "print(user_info)"
   ]
  },
  {
   "cell_type": "code",
   "execution_count": 0,
   "metadata": {
    "colab": {
     "base_uri": "https://localhost:8080/",
     "height": 54
    },
    "colab_type": "code",
    "id": "ZNCPQu01xDYK",
    "outputId": "9da4c31d-01f6-4b1b-c6b3-36c3f2908e16"
   },
   "outputs": [
    {
     "name": "stdout",
     "output_type": "stream",
     "text": [
      "{'name': 'unknown', 'age': 'unknown', 'height': 'unknown'}\n",
      "{1: '9', 2: '9', 3: '9', 4: '9', 5: '9', 6: '9', 7: '9', 8: '9', 9: '9', 10: '9'}\n"
     ]
    }
   ],
   "source": [
    "#method fromkeys to create dictionary\n",
    "\n",
    "d = dict(\n",
    "    name = 'Unknown',\n",
    "    age = 'Unknown'\n",
    ")\n",
    "\n",
    "d = dict.fromkeys(['name','age','height'],'unknown')\n",
    "print(d)\n",
    "d = dict.fromkeys(range(1,11),'9')\n",
    "print(d)"
   ]
  },
  {
   "cell_type": "code",
   "execution_count": 0,
   "metadata": {
    "colab": {
     "base_uri": "https://localhost:8080/",
     "height": 72
    },
    "colab_type": "code",
    "id": "705OFbzWy5kz",
    "outputId": "432d9fbf-af92-42a4-c939-c3de5ea5fd78"
   },
   "outputs": [
    {
     "name": "stdout",
     "output_type": "stream",
     "text": [
      "shahed\n",
      "{}\n",
      "{1: '9', 2: '9', 3: '9', 4: '9', 5: '9', 6: '9', 7: '9', 8: '9', 9: '9', 10: '9'}\n"
     ]
    }
   ],
   "source": [
    "#get method\n",
    "user_info = dict(\n",
    "    name = 'shahed',\n",
    "    age = 24,\n",
    "    fav_movies = ['end_game','infinite war','hellowen'],\n",
    "    fev_tunes = ['hello','faded','on my way']\n",
    ")\n",
    "\n",
    "print(user_info.get('name')) #better\n",
    "user_info.clear()\n",
    "print(user_info)\n",
    "\n",
    "user_info = d.copy()\n",
    "print(user_info)"
   ]
  },
  {
   "cell_type": "code",
   "execution_count": 2,
   "metadata": {
    "colab": {
     "base_uri": "https://localhost:8080/",
     "height": 34
    },
    "colab_type": "code",
    "id": "E78f3ms-96fb",
    "outputId": "1dd78877-c618-4db4-d4fe-cdccee962d30"
   },
   "outputs": [
    {
     "name": "stdout",
     "output_type": "stream",
     "text": [
      "shahed\n"
     ]
    }
   ],
   "source": [
    "user = dict(\n",
    "    name = 'shahed',\n",
    "    age = 24\n",
    ")\n",
    "\n",
    "print(user.get('name','not a key!'))"
   ]
  },
  {
   "cell_type": "code",
   "execution_count": 0,
   "metadata": {
    "colab": {
     "base_uri": "https://localhost:8080/",
     "height": 35
    },
    "colab_type": "code",
    "id": "4yAFGUrf-dUA",
    "outputId": "d9538c9a-d1f0-427d-a86b-5ef5f6aa21a0"
   },
   "outputs": [
    {
     "name": "stdout",
     "output_type": "stream",
     "text": [
      "{'name': 'shahed', 'age': 34}\n"
     ]
    }
   ],
   "source": [
    "user = {\n",
    "    'name' : 'shahed',\n",
    "    'age' : 24,\n",
    "    'age' : 34\n",
    "}\n",
    "\n",
    "print(user)"
   ]
  },
  {
   "cell_type": "code",
   "execution_count": 0,
   "metadata": {
    "colab": {
     "base_uri": "https://localhost:8080/",
     "height": 72
    },
    "colab_type": "code",
    "id": "qc5ld2fW_fBr",
    "outputId": "a9047bfd-8bd3-4745-b4bc-c09bf6b9186a"
   },
   "outputs": [
    {
     "name": "stdout",
     "output_type": "stream",
     "text": [
      "Enter an integer number:21\n",
      "Dictionary is:\n",
      "{1: 1, 2: 8, 3: 27, 4: 64, 5: 125, 6: 216, 7: 343, 8: 512, 9: 729, 10: 1000, 11: 1331, 12: 1728, 13: 2197, 14: 2744, 15: 3375, 16: 4096, 17: 4913, 18: 5832, 19: 6859, 20: 8000, 21: 9261}\n"
     ]
    }
   ],
   "source": [
    "#cube finder\n",
    "def cube_finder(num):\n",
    "  cube = {}\n",
    "  for i in range(1,num+1):\n",
    "    cube[i] = i**3\n",
    "  return cube\n",
    "\n",
    "\n",
    "if __name__ == '__main__':\n",
    "  num = int(input(\"Enter an integer number:\"))\n",
    "  print(\"Dictionary is:\")\n",
    "  print(cube_finder(num))"
   ]
  },
  {
   "cell_type": "code",
   "execution_count": 0,
   "metadata": {
    "colab": {
     "base_uri": "https://localhost:8080/",
     "height": 54
    },
    "colab_type": "code",
    "id": "nQZ6lisYFnqq",
    "outputId": "436eeadb-8141-42fe-8c37-f3899fd01815"
   },
   "outputs": [
    {
     "name": "stdout",
     "output_type": "stream",
     "text": [
      "Enter your name:shahed\n",
      "{'s': 1, 'h': 2, 'a': 1, 'e': 1, 'd': 1}\n"
     ]
    }
   ],
   "source": [
    "def word_counter(string):\n",
    "  word = {}\n",
    "  for i in string:\n",
    "    word[i] = string.count(i)\n",
    "  return word\n",
    "\n",
    "if __name__  == '__main__':\n",
    "  name = input(\"Enter your name:\")\n",
    "  print(word_counter(name))"
   ]
  },
  {
   "cell_type": "code",
   "execution_count": 0,
   "metadata": {
    "colab": {
     "base_uri": "https://localhost:8080/",
     "height": 217
    },
    "colab_type": "code",
    "id": "oWe6sSjWHa-h",
    "outputId": "2f8fa694-c3f0-4c9c-8cae-ad136879d7bb"
   },
   "outputs": [
    {
     "name": "stdout",
     "output_type": "stream",
     "text": [
      "Enter your name:shahed\n",
      "s : 1\n",
      "h : 2\n",
      "a : 1\n",
      "e : 1\n",
      "d : 1\n",
      "s\n",
      "h\n",
      "a\n",
      "e\n",
      "d\n"
     ]
    }
   ],
   "source": [
    "def word_counter(string):\n",
    "  word = {}\n",
    "  for i in string:\n",
    "    word[i] = string.count(i)\n",
    "  return word\n",
    "\n",
    "if __name__  == '__main__':\n",
    "  name = input(\"Enter your name:\")\n",
    "  dictionary = word_counter(name)\n",
    "  for i,j in dictionary.items():\n",
    "    print(\"{} : {}\".format(i,j))\n",
    "  #printing keys\n",
    "  for i in dictionary:\n",
    "    print(i)"
   ]
  },
  {
   "cell_type": "code",
   "execution_count": 0,
   "metadata": {
    "colab": {
     "base_uri": "https://localhost:8080/",
     "height": 126
    },
    "colab_type": "code",
    "id": "awllcsauNL0e",
    "outputId": "58f2e9a3-5811-4ce8-83d7-473bdb80ba0c"
   },
   "outputs": [
    {
     "name": "stdout",
     "output_type": "stream",
     "text": [
      "[1, 2, 3, 4, 5, 6, 7, 2, 4, 1, 4, 6, 7, 5, 0]\n",
      "{0, 1, 2, 3, 4, 5, 6, 7}\n",
      "[0, 1, 2, 3, 4, 5, 6, 7]\n",
      "{0, 1, 2, 3, 4, 5, 6, 7, 10}\n",
      "{0, 1, 2, 3, 5, 6, 7, 10}\n",
      "{0, 1, 2, 3, 5, 6, 7, 10}\n"
     ]
    }
   ],
   "source": [
    "#set\n",
    "list1 = [1,2,3,4,5,6,7,2,4,1,4,6,7,5,0]\n",
    "print(list1)\n",
    "s = set(list1)\n",
    "print(s)\n",
    "sl = list(s)\n",
    "print(sl)\n",
    "s.add(10)\n",
    "print(s)\n",
    "s.remove(4)\n",
    "print(s)\n",
    "s.discard(11)\n",
    "print(s)\n"
   ]
  },
  {
   "cell_type": "code",
   "execution_count": 0,
   "metadata": {
    "colab": {
     "base_uri": "https://localhost:8080/",
     "height": 54
    },
    "colab_type": "code",
    "id": "mdbh8HHkQ4kw",
    "outputId": "33b9051e-c124-4217-cb47-42cef8d0c9ea"
   },
   "outputs": [
    {
     "name": "stdout",
     "output_type": "stream",
     "text": [
      "{1, 2, 3, 5, 6, 7, 9}\n",
      "{3, 7}\n"
     ]
    }
   ],
   "source": [
    "set1 = {1,3,5,6,7}\n",
    "set2 = {3,2,9,7}\n",
    "union_set = set1 | set2\n",
    "intersection_set = set1 & set2\n",
    "print(union_set)\n",
    "print(intersection_set)"
   ]
  },
  {
   "cell_type": "code",
   "execution_count": 0,
   "metadata": {
    "colab": {
     "base_uri": "https://localhost:8080/",
     "height": 108
    },
    "colab_type": "code",
    "id": "Q7tsmTDOT6uU",
    "outputId": "a74f24e6-7921-46a5-dfdf-7dda32916151"
   },
   "outputs": [
    {
     "name": "stdout",
     "output_type": "stream",
     "text": [
      "[1, 4, 9, 16, 25, 36, 49, 64, 81, 100]\n",
      "[-1, -2, -3, -4, -5, -6, -7, -8, -9, -10]\n",
      "[2, 4, 6, 8, 10]\n",
      "[1, 3, 5, 7, 9]\n",
      "['s', 'a', 'r', 'k']\n"
     ]
    }
   ],
   "source": [
    "#list comprehension\n",
    "\n",
    "#create a list of squares from 1 to 10\n",
    "square = [i**2 for i in range(1,11)]\n",
    "print(square)\n",
    "\n",
    "#negative number list with list comprehension\n",
    "negative = [-i for i in range(1,11)]\n",
    "print(negative)\n",
    "\n",
    "# even number list using list comprehension\n",
    "even = [i for i in range(1,11) if i % 2 == 0]\n",
    "#odd number list using list comprehension\n",
    "odd = [i for i in range(1,11) if i % 2 != 0]\n",
    "\n",
    "print(even)\n",
    "print(odd)\n",
    "#first letter using list comprehension\n",
    "name = ['shahed','ashik','rajib','koli']\n",
    "first_letter = [i[0] for i in name]\n",
    "print(first_letter)"
   ]
  },
  {
   "cell_type": "code",
   "execution_count": 0,
   "metadata": {
    "colab": {
     "base_uri": "https://localhost:8080/",
     "height": 35
    },
    "colab_type": "code",
    "id": "jCtc0fiSx533",
    "outputId": "a9a1f295-f639-4369-e5da-dad6df2f05af"
   },
   "outputs": [
    {
     "name": "stdout",
     "output_type": "stream",
     "text": [
      "['cba', 'fed', 'ihg']\n"
     ]
    }
   ],
   "source": [
    "#without function\n",
    "list1 = ['abc','def','ghi']\n",
    "new = [i[::-1] for i in list1]\n",
    "print(new)"
   ]
  },
  {
   "cell_type": "code",
   "execution_count": 0,
   "metadata": {
    "colab": {
     "base_uri": "https://localhost:8080/",
     "height": 54
    },
    "colab_type": "code",
    "id": "-UWmZLzOy3ne",
    "outputId": "24b0a58a-0ae7-4665-b36a-717543bcfd2a"
   },
   "outputs": [
    {
     "name": "stdout",
     "output_type": "stream",
     "text": [
      "Reversed List elements are:\n",
      "['cba', 'fed', 'ihg', 'lkj']\n"
     ]
    }
   ],
   "source": [
    "#with funtion\n",
    "# def reverse_list(list1):\n",
    "#   new = [i[::-1] for i in list1]\n",
    "#   return new\n",
    "\n",
    "def reverse_list(list2):\n",
    "  return [i[::-1] for i in list2]\n",
    "\n",
    "if __name__ == '__main__':\n",
    "  l1 = ['abc','def','ghi','jkl']\n",
    "  print(\"Reversed List elements are:\")\n",
    "  print(reverse_list(l1))"
   ]
  },
  {
   "cell_type": "code",
   "execution_count": 0,
   "metadata": {
    "colab": {
     "base_uri": "https://localhost:8080/",
     "height": 35
    },
    "colab_type": "code",
    "id": "YxU_ign53JS8",
    "outputId": "b596b101-8d68-4577-f44a-97e43231e736"
   },
   "outputs": [
    {
     "name": "stdout",
     "output_type": "stream",
     "text": [
      "[1, 2.0, 5, 1.0]\n"
     ]
    }
   ],
   "source": [
    "def finder(list1):\n",
    "  l2 = [i for i in l1 if type(i) == int or type(i) == float]\n",
    "  return l2\n",
    "\n",
    "if __name__ =='__main__':\n",
    "  l1 = [True,False,1,2.0,5,1.0,'shahed']\n",
    "  print(finder(l1))"
   ]
  },
  {
   "cell_type": "code",
   "execution_count": 0,
   "metadata": {
    "colab": {
     "base_uri": "https://localhost:8080/",
     "height": 35
    },
    "colab_type": "code",
    "id": "0HZE2fKw9QVp",
    "outputId": "d2ca857f-7321-4ddf-8be8-70be37bf93ac"
   },
   "outputs": [
    {
     "name": "stdout",
     "output_type": "stream",
     "text": [
      "[-1, 4, -3, 8, -5, 12, -7, 16, -9, 20]\n"
     ]
    }
   ],
   "source": [
    "#without list comprehension\n",
    "def differ(list1):\n",
    "  new_list = []\n",
    "  for i in list1:\n",
    "    if i % 2 == 0:\n",
    "      new_list.append(i*2)\n",
    "    else:\n",
    "      new_list.append(-i)\n",
    "  return new_list\n",
    "\n",
    "if __name__ == '__main__':\n",
    "  list1 = list(range(1,11))\n",
    "  print(differ(list1))\n",
    "   "
   ]
  },
  {
   "cell_type": "code",
   "execution_count": 0,
   "metadata": {
    "colab": {
     "base_uri": "https://localhost:8080/",
     "height": 35
    },
    "colab_type": "code",
    "id": "4ldFRzor_pXo",
    "outputId": "522562d2-f084-44e4-be72-844c48c8fc78"
   },
   "outputs": [
    {
     "name": "stdout",
     "output_type": "stream",
     "text": [
      "[-1, 4, -3, 8, -5, 12, -7, 16, -9, 20]\n"
     ]
    }
   ],
   "source": [
    "#with list comprehension\n",
    "def differ(list1):\n",
    "  new_list = [i*2 if i % 2 == 0 else -i for i in list1]\n",
    "  return new_list\n",
    "\n",
    "if __name__ == '__main__':\n",
    "  list2 = list(range(1,11))\n",
    "  print(differ(list2))"
   ]
  },
  {
   "cell_type": "code",
   "execution_count": 0,
   "metadata": {
    "colab": {
     "base_uri": "https://localhost:8080/",
     "height": 35
    },
    "colab_type": "code",
    "id": "3v4dHnLYAozZ",
    "outputId": "e6cc8d34-4ed6-4353-9d9a-9729428e9ee4"
   },
   "outputs": [
    {
     "name": "stdout",
     "output_type": "stream",
     "text": [
      "[[1, 2, 3], [1, 2, 3], [1, 2, 3]]\n"
     ]
    }
   ],
   "source": [
    "# nested list with list comprehension\n",
    "nested_comp = [[i for i in range(1,4)] for j in range(3)]\n",
    "print(nested_comp)"
   ]
  },
  {
   "cell_type": "code",
   "execution_count": 0,
   "metadata": {
    "colab": {
     "base_uri": "https://localhost:8080/",
     "height": 35
    },
    "colab_type": "code",
    "id": "cp98_SUhO3Pb",
    "outputId": "6444a9c5-e31c-4d18-886f-5fdea34635fe"
   },
   "outputs": [
    {
     "name": "stdout",
     "output_type": "stream",
     "text": [
      "[[1, 2, 3], [4, 5, 6], [7, 8, 9]]\n"
     ]
    }
   ],
   "source": [
    "#list comprehension\n",
    "new_list = [list(range(n*3+1,n*3+3+1)) for n in range(3)]\n",
    "print(new_list)"
   ]
  },
  {
   "cell_type": "code",
   "execution_count": 0,
   "metadata": {
    "colab": {
     "base_uri": "https://localhost:8080/",
     "height": 217
    },
    "colab_type": "code",
    "id": "_TDyxqmY46Zo",
    "outputId": "bac5bbb6-f00e-46c0-8062-217d9c727a6f"
   },
   "outputs": [
    {
     "name": "stdout",
     "output_type": "stream",
     "text": [
      "{1: 1, 2: 4, 3: 9, 4: 16, 5: 25, 6: 36, 7: 49, 8: 64, 9: 81, 10: 100}\n",
      "Square of 1 is 1\n",
      "Square of 2 is 4\n",
      "Square of 3 is 9\n",
      "Square of 4 is 16\n",
      "Square of 5 is 25\n",
      "Square of 6 is 36\n",
      "Square of 7 is 49\n",
      "Square of 8 is 64\n",
      "Square of 9 is 81\n",
      "Square of 10 is 100\n"
     ]
    }
   ],
   "source": [
    "# dictionary comprehension\n",
    "square = {num : num **2 for num in range(1,11)}\n",
    "print(square)\n",
    "for i,j in square.items():\n",
    "  print(\"Square of {} is {}\".format(i,j))"
   ]
  },
  {
   "cell_type": "code",
   "execution_count": 0,
   "metadata": {
    "colab": {
     "base_uri": "https://localhost:8080/",
     "height": 217
    },
    "colab_type": "code",
    "id": "Doi_DRfC5ix9",
    "outputId": "21f0263d-ddc1-4ee0-f808-da75885d332e"
   },
   "outputs": [
    {
     "name": "stdout",
     "output_type": "stream",
     "text": [
      "S : 1\n",
      "h : 2\n",
      "a : 2\n",
      "e : 2\n",
      "d : 2\n",
      "  : 1\n",
      "T : 1\n",
      "l : 1\n",
      "u : 1\n",
      "k : 1\n",
      "r : 1\n"
     ]
    }
   ],
   "source": [
    "name = \"Shahed Talukder\"\n",
    "word_count = {cnt : name.count(cnt) for cnt in name}\n",
    "for i,j in word_count.items():\n",
    "  print(\"{} : {}\".format(i,j))"
   ]
  },
  {
   "cell_type": "code",
   "execution_count": 0,
   "metadata": {
    "colab": {
     "base_uri": "https://localhost:8080/",
     "height": 199
    },
    "colab_type": "code",
    "id": "u9Az-oMw9LY1",
    "outputId": "852cd5d7-72de-440e-e998-245572ec9266"
   },
   "outputs": [
    {
     "name": "stdout",
     "output_type": "stream",
     "text": [
      "1 : odd\n",
      "2 : even\n",
      "3 : odd\n",
      "4 : even\n",
      "5 : odd\n",
      "6 : even\n",
      "7 : odd\n",
      "8 : even\n",
      "9 : odd\n",
      "10 : even\n"
     ]
    }
   ],
   "source": [
    "# without dictionary comprehension\n",
    "dictionary = {}\n",
    "for i in range(1,11):\n",
    "  if i % 2 == 0:\n",
    "    dictionary[i] = \"even\"\n",
    "  else:\n",
    "    dictionary[i] = \"odd\"\n",
    "for i,j in dictionary.items():\n",
    "  print(\"{} : {}\".format(i,j))"
   ]
  },
  {
   "cell_type": "code",
   "execution_count": 0,
   "metadata": {
    "colab": {
     "base_uri": "https://localhost:8080/",
     "height": 217
    },
    "colab_type": "code",
    "id": "Ip9U0xuEBHuF",
    "outputId": "ad925f2c-7aac-44fe-af1f-ea716049d3e3"
   },
   "outputs": [
    {
     "name": "stdout",
     "output_type": "stream",
     "text": [
      "{1: 'odd', 2: 'even', 3: 'odd', 4: 'even', 5: 'odd', 6: 'even', 7: 'odd', 8: 'even', 9: 'odd', 10: 'even'}\n",
      "1 : odd\n",
      "2 : even\n",
      "3 : odd\n",
      "4 : even\n",
      "5 : odd\n",
      "6 : even\n",
      "7 : odd\n",
      "8 : even\n",
      "9 : odd\n",
      "10 : even\n"
     ]
    }
   ],
   "source": [
    "#with dictionary comprehension\n",
    "dictionary = {i : \"even\" if i % 2 == 0 else \"odd\" for i in range(1,11)}\n",
    "print(dictionary)\n",
    "for i,j in dictionary.items():\n",
    "  print(\"{} : {}\".format(i,j))\n"
   ]
  },
  {
   "cell_type": "code",
   "execution_count": 0,
   "metadata": {
    "colab": {
     "base_uri": "https://localhost:8080/",
     "height": 35
    },
    "colab_type": "code",
    "id": "KMNlBaGtCbND",
    "outputId": "b7c094b4-87f8-4755-d800-ad1a40df6803"
   },
   "outputs": [
    {
     "name": "stdout",
     "output_type": "stream",
     "text": [
      "{64, 1, 4, 36, 100, 9, 16, 49, 81, 25}\n"
     ]
    }
   ],
   "source": [
    "set1 = {i**2  for i in range(1,11)}\n",
    "print(set1)"
   ]
  },
  {
   "cell_type": "code",
   "execution_count": 0,
   "metadata": {
    "colab": {
     "base_uri": "https://localhost:8080/",
     "height": 35
    },
    "colab_type": "code",
    "id": "WK2cF9yLEsHl",
    "outputId": "52e8c000-8aa8-44a1-9c71-e17d53309338"
   },
   "outputs": [
    {
     "name": "stdout",
     "output_type": "stream",
     "text": [
      "{'a', 'n', 'e', 'g', 's', 'r'}\n"
     ]
    }
   ],
   "source": [
    "names= ['shahed','ashik','rajib','nobel','emon','galib']\n",
    "set2 = {i[0] for i in names}\n",
    "print(set2)"
   ]
  },
  {
   "cell_type": "code",
   "execution_count": 0,
   "metadata": {
    "colab": {
     "base_uri": "https://localhost:8080/",
     "height": 72
    },
    "colab_type": "code",
    "id": "sVnwHW-dFVaC",
    "outputId": "3799b2e9-1a4f-400f-a9e5-a064ec328369"
   },
   "outputs": [
    {
     "name": "stdout",
     "output_type": "stream",
     "text": [
      "(2, 3, 4, 5)\n",
      "<class 'tuple'>\n",
      "37\n"
     ]
    }
   ],
   "source": [
    "# intro to arguments means (args*)\n",
    "# make flexible function\n",
    "# *operator\n",
    "# *args\n",
    "\n",
    "def all_elem(*args):\n",
    "  print(args)\n",
    "  print(type(args))\n",
    "  \n",
    "def all_sum(*args):\n",
    "  total = 0\n",
    "  for i in args:\n",
    "    total += i\n",
    "  return total\n",
    "\n",
    "if __name__ == '__main__':\n",
    "  all_elem(2,3,4,5)\n",
    "  print(all_sum(2,5,6,7,8,9))"
   ]
  },
  {
   "cell_type": "code",
   "execution_count": 0,
   "metadata": {
    "colab": {
     "base_uri": "https://localhost:8080/",
     "height": 35
    },
    "colab_type": "code",
    "id": "pZgb_tjiL3t6",
    "outputId": "0600e84b-4654-4c55-8310-994bb6213ab2"
   },
   "outputs": [
    {
     "name": "stdout",
     "output_type": "stream",
     "text": [
      "6755\n"
     ]
    }
   ],
   "source": [
    "#we can't write parameter after *arg\n",
    "def sum_multy(a,b,*args):\n",
    "  total = 1\n",
    "  for i in args:\n",
    "    total *= i\n",
    "  return total+a+b\n",
    "\n",
    "if __name__ == '__main__':\n",
    "  count = sum_multy(27,8,4,5,6,7,8)\n",
    "  print(count)"
   ]
  },
  {
   "cell_type": "code",
   "execution_count": 0,
   "metadata": {
    "colab": {
     "base_uri": "https://localhost:8080/",
     "height": 90
    },
    "colab_type": "code",
    "id": "uwS6pVUjMnlf",
    "outputId": "34af918c-7c56-4a35-8cd4-cad42f87dc7a"
   },
   "outputs": [
    {
     "name": "stdout",
     "output_type": "stream",
     "text": [
      "<class 'int'>\n",
      "<class 'int'>\n",
      "24\n",
      "24\n"
     ]
    }
   ],
   "source": [
    "# *args with list\n",
    "def multiply_nums(*args):\n",
    "  mul = 1\n",
    "  for i in args:\n",
    "    mul *= i\n",
    "  return mul\n",
    "\n",
    "if __name__ == '__main__':\n",
    "  num2 = [2,3,4]\n",
    "  print(type(multiply_nums(2,5,4)))\n",
    "  print(type(multiply_nums(*num2)))\n",
    "  print(multiply_nums(2,3,4))\n",
    "  print(multiply_nums(*num2))"
   ]
  },
  {
   "cell_type": "code",
   "execution_count": 0,
   "metadata": {
    "colab": {
     "base_uri": "https://localhost:8080/",
     "height": 35
    },
    "colab_type": "code",
    "id": "ZQuvDWrqQ18R",
    "outputId": "9998ff5c-f9d4-4f1b-c672-f0e5ea4db17f"
   },
   "outputs": [
    {
     "name": "stdout",
     "output_type": "stream",
     "text": [
      "[1, 4, 9, 16, 25]\n"
     ]
    }
   ],
   "source": [
    "#without list comprehension\n",
    "def power_set(num,*args):\n",
    "  new_list = []\n",
    "  for i in args:\n",
    "    new_list.append(i**num)\n",
    "  return new_list\n",
    "\n",
    "if __name__ == '__main__':\n",
    "  set = [1,2,3,4,5]\n",
    "  print(power_set(2,*set))"
   ]
  },
  {
   "cell_type": "code",
   "execution_count": 0,
   "metadata": {
    "colab": {
     "base_uri": "https://localhost:8080/",
     "height": 35
    },
    "colab_type": "code",
    "id": "dMJ-q0Y7bTVn",
    "outputId": "cf22d922-2b9a-409d-80db-007280816311"
   },
   "outputs": [
    {
     "name": "stdout",
     "output_type": "stream",
     "text": [
      "[8, 125, 64, 27]\n"
     ]
    }
   ],
   "source": [
    "#with list comprehension\n",
    "def power_set(num,*args):\n",
    "  if len(args) < 1:\n",
    "    return \"Hey you didn't pass args\"\n",
    "  return [i**num for i in args]\n",
    "\n",
    "if __name__ == '__main__':\n",
    "  list1 = [2,5,4,3]\n",
    "  print(power_set(3,*list1))"
   ]
  },
  {
   "cell_type": "code",
   "execution_count": 0,
   "metadata": {
    "colab": {
     "base_uri": "https://localhost:8080/",
     "height": 35
    },
    "colab_type": "code",
    "id": "o48BkOi-b4ML",
    "outputId": "38132443-ed2b-4b2d-93b0-7ba8d5cd0e41"
   },
   "outputs": [
    {
     "name": "stdout",
     "output_type": "stream",
     "text": [
      "[4, 9, 16, 36]\n"
     ]
    }
   ],
   "source": [
    "#anther way\n",
    "def power_set(n, *args):\n",
    "  if args:\n",
    "    return [i**n for i in args]\n",
    "  return \"Hey you didn't pass args\"\n",
    "\n",
    "if __name__ == '__main__':\n",
    "  l1 = [2,3,4,6]\n",
    "  print(power_set(2,*l1))"
   ]
  },
  {
   "cell_type": "code",
   "execution_count": 0,
   "metadata": {
    "colab": {
     "base_uri": "https://localhost:8080/",
     "height": 54
    },
    "colab_type": "code",
    "id": "vXTAOhr6gnRd",
    "outputId": "5f2f38ba-8416-4eab-fa3b-01f425527e26"
   },
   "outputs": [
    {
     "name": "stdout",
     "output_type": "stream",
     "text": [
      "name : shahed\n",
      "age : 21\n"
     ]
    }
   ],
   "source": [
    "#**kwargs implementation\n",
    "\n",
    "def func(**kwargs):\n",
    "  for i,j in kwargs.items():\n",
    "    print(\"{} : {}\".format(i,j))\n",
    "  \n",
    "if __name__ == '__main__':\n",
    "  func(name = \"shahed\",age = \"21\")"
   ]
  },
  {
   "cell_type": "code",
   "execution_count": 0,
   "metadata": {
    "colab": {
     "base_uri": "https://localhost:8080/",
     "height": 72
    },
    "colab_type": "code",
    "id": "pbrYBuWRm74a",
    "outputId": "774bc8ff-73d0-40c5-8361-6e4442768a41"
   },
   "outputs": [
    {
     "name": "stdout",
     "output_type": "stream",
     "text": [
      "name : Shahed\n",
      "age : 21\n",
      "Hello\n"
     ]
    }
   ],
   "source": [
    "#another\n",
    "def func(n,**kwargs):\n",
    "  for i,j in kwargs.items():\n",
    "    print(\"{} : {}\".format(i,j))\n",
    "  print(n)\n",
    "    \n",
    "if __name__ == '__main__':\n",
    "  func(\"Hello\",name = \"Shahed\",age = \"21\")"
   ]
  },
  {
   "cell_type": "code",
   "execution_count": 0,
   "metadata": {
    "colab": {
     "base_uri": "https://localhost:8080/",
     "height": 90
    },
    "colab_type": "code",
    "id": "2UyAU0f8o5xV",
    "outputId": "8c3497fe-7859-4510-beab-414976972bcf"
   },
   "outputs": [
    {
     "name": "stdout",
     "output_type": "stream",
     "text": [
      "{'name': 'Shahed', 'age': '21', 'address': 'khagan'}\n",
      "name : Shahed\n",
      "age : 21\n",
      "address : khagan\n"
     ]
    }
   ],
   "source": [
    "#dictionary unpacking\n",
    "def dict_unpacking(**kwargs):\n",
    "  for i,j in kwargs.items():\n",
    "    print(\"{} : {}\".format(i,j))\n",
    "if __name__ == '__main__':\n",
    "  new_dict = dict(\n",
    "      name = \"Shahed\",\n",
    "      age = \"21\",\n",
    "      address = \"khagan\"\n",
    "  )\n",
    "  print(new_dict)\n",
    "  dict_unpacking(**new_dict)\n"
   ]
  },
  {
   "cell_type": "code",
   "execution_count": 0,
   "metadata": {
    "colab": {
     "base_uri": "https://localhost:8080/",
     "height": 126
    },
    "colab_type": "code",
    "id": "q9LXXHAgHwfq",
    "outputId": "dc736ebe-58bd-4860-949b-15278dafd319"
   },
   "outputs": [
    {
     "name": "stdout",
     "output_type": "stream",
     "text": [
      "unknown\n",
      "24\n",
      "shahed\n",
      "24\n",
      "shahed\n",
      "22\n"
     ]
    }
   ],
   "source": [
    "#default param\n",
    "def func(name = 'unknown',age = 24):\n",
    "  print(name)\n",
    "  print(age)\n",
    "  \n",
    "func()\n",
    "func(\"shahed\")\n",
    "func(\"shahed\",22)"
   ]
  },
  {
   "cell_type": "code",
   "execution_count": 0,
   "metadata": {
    "colab": {
     "base_uri": "https://localhost:8080/",
     "height": 90
    },
    "colab_type": "code",
    "id": "HsaSFQZCLras",
    "outputId": "914c0042-7e6a-4e66-897b-08b9c359b3fb"
   },
   "outputs": [
    {
     "name": "stdout",
     "output_type": "stream",
     "text": [
      "shahed\n",
      "(2, 3, 4, 'talukder')\n",
      "unknown\n",
      "{'age': 23, 'address': 'khagan'}\n"
     ]
    }
   ],
   "source": [
    "#using all parameter type\n",
    "#we have to maintain parameter serial\n",
    "#normal parameter\n",
    "#args param\n",
    "#default param\n",
    "#kwargs\n",
    "def cont(name,*args,last_name = 'unknown',**kwargs):\n",
    "  print(name)\n",
    "  print(args)\n",
    "  print(last_name)\n",
    "  print(kwargs)\n",
    "  \n",
    "if __name__ == '__main__':\n",
    "  cont(\"shahed\",2,3,4,\"talukder\",age = 23,address = 'khagan')"
   ]
  },
  {
   "cell_type": "code",
   "execution_count": 0,
   "metadata": {
    "colab": {
     "base_uri": "https://localhost:8080/",
     "height": 54
    },
    "colab_type": "code",
    "id": "atIwT1h_M7Ft",
    "outputId": "6683a46a-e33b-45e7-aa52-c6c925e30917"
   },
   "outputs": [
    {
     "name": "stdout",
     "output_type": "stream",
     "text": [
      "['Shahed', 'Ashik']\n",
      "['Dehahs', 'Kihsa']\n"
     ]
    }
   ],
   "source": [
    "def capital_str(l1,**kwargs):\n",
    "  if kwargs.get('reverse_str') == True:\n",
    "    return [name[::-1].title() for name in l1]\n",
    "  else:\n",
    "    return [name.title() for name in l1]\n",
    "if __name__ == '__main__':\n",
    "  list1 = ['shahed','ashik']\n",
    "  print(capital_str(list1))\n",
    "  print(capital_str(list1, reverse_str = True))"
   ]
  },
  {
   "cell_type": "code",
   "execution_count": 0,
   "metadata": {
    "colab": {
     "base_uri": "https://localhost:8080/",
     "height": 54
    },
    "colab_type": "code",
    "id": "E31yoVLuqxdN",
    "outputId": "ae7ff2e5-13eb-4263-b0b0-c3d5914d0c23"
   },
   "outputs": [
    {
     "name": "stdout",
     "output_type": "stream",
     "text": [
      "68\n",
      "2\n"
     ]
    }
   ],
   "source": [
    "# def add(a,b):\n",
    "#   return a + b\n",
    "\n",
    "add = lambda a, b : a + b\n",
    "print(add(23,45))\n",
    "\n",
    "#we use lambda expression in some build in functions\n",
    "#like\n",
    "#map, reduce,  filter etc\n",
    "\n",
    "multiply = lambda a,b : a * b\n",
    "print(multiply(1,2))\n"
   ]
  },
  {
   "cell_type": "code",
   "execution_count": 0,
   "metadata": {
    "colab": {
     "base_uri": "https://localhost:8080/",
     "height": 108
    },
    "colab_type": "code",
    "id": "OJ6RCOMbrSx5",
    "outputId": "f2a83c3f-f40e-4355-b98a-66434d5b1d2a"
   },
   "outputs": [
    {
     "name": "stdout",
     "output_type": "stream",
     "text": [
      "Summation is :True\n",
      "d\n",
      "dehahs\n",
      "length of the string False\n",
      "Greatest\n"
     ]
    }
   ],
   "source": [
    "new = lambda a : a % 2 == 0\n",
    "print(\"Summation is :{}\".format(new(12)))\n",
    "\n",
    "last_char = lambda string : string[-1]\n",
    "print(last_char(\"shahed\"))\n",
    "\n",
    "rev_str = lambda string : string[::-1]\n",
    "print(rev_str('shahed'))\n",
    "\n",
    "length = lambda string : len(string) < 5\n",
    "print(\"length of the string {}\".format(length(\"shahed talukder\")))\n",
    "\n",
    "length = lambda string : \"Greatest\" if len(string) > 5 else \"Smallest\"\n",
    "print(length(\"Shhaed Talukder\"))"
   ]
  },
  {
   "cell_type": "code",
   "execution_count": 0,
   "metadata": {
    "colab": {
     "base_uri": "https://localhost:8080/",
     "height": 35
    },
    "colab_type": "code",
    "id": "ktRlL9iiy9bM",
    "outputId": "3e11856c-c26f-493c-a18d-f2a467a7fd17"
   },
   "outputs": [
    {
     "name": "stdout",
     "output_type": "stream",
     "text": [
      "[1, [1, 2, 3], 2, [4, 5, 6], 3, [7, 8, 9]]\n"
     ]
    }
   ],
   "source": [
    "new_list = []\n",
    "for i in range(3):\n",
    "    new_list.append(i+1)\n",
    "    new_list.append([i for i in range(i*3+1,i*3+3+1)])\n",
    "    \n",
    "print(new_list)"
   ]
  },
  {
   "cell_type": "code",
   "execution_count": 0,
   "metadata": {
    "colab": {},
    "colab_type": "code",
    "id": "0FKqVIz7N8-7"
   },
   "outputs": [],
   "source": [
    "#palindrom checker with lambda expression\n",
    "palindrom_check = lambda string : string  == string[::-1]\n",
    "\n",
    "name = input(\"Enter your name:\")\n",
    "print(palindrom_check(name))"
   ]
  },
  {
   "cell_type": "code",
   "execution_count": 0,
   "metadata": {
    "colab": {
     "base_uri": "https://localhost:8080/",
     "height": 72
    },
    "colab_type": "code",
    "id": "Qia-SqwSOasB",
    "outputId": "6f5e657a-7710-49e8-94db-04e4cb8e39c6"
   },
   "outputs": [
    {
     "name": "stdout",
     "output_type": "stream",
     "text": [
      "0 -- shahed\n",
      "1 -- ashik\n",
      "2 -- azad\n"
     ]
    }
   ],
   "source": [
    "names = ['shahed','ashik','azad']\n",
    "for i,j in enumerate(names):\n",
    "  print(\"{} -- {}\".format(i,j))"
   ]
  },
  {
   "cell_type": "code",
   "execution_count": 0,
   "metadata": {
    "colab": {
     "base_uri": "https://localhost:8080/",
     "height": 54
    },
    "colab_type": "code",
    "id": "AeF-1o10KEr-",
    "outputId": "fa79943a-34a9-4320-e9c9-47f5f9074a4a"
   },
   "outputs": [
    {
     "name": "stdout",
     "output_type": "stream",
     "text": [
      "<map object at 0x7f72ad5e4668>\n",
      "[1, 4, 9, 16]\n"
     ]
    }
   ],
   "source": [
    "# def square(a):\n",
    "#   return a**2\n",
    "#one method without including it into map\n",
    "\n",
    "square = lambda a : a**2\n",
    "\n",
    "numbers = [1,2,3,4]\n",
    "print(map(square, numbers))\n",
    "\n",
    "square = list(map(square, numbers))\n",
    "print(square)"
   ]
  },
  {
   "cell_type": "code",
   "execution_count": 0,
   "metadata": {
    "colab": {
     "base_uri": "https://localhost:8080/",
     "height": 35
    },
    "colab_type": "code",
    "id": "xESsczA6bN6B",
    "outputId": "6e85fbb3-463d-424e-c998-e409494d4648"
   },
   "outputs": [
    {
     "name": "stdout",
     "output_type": "stream",
     "text": [
      "[1, 4, 9, 16]\n"
     ]
    }
   ],
   "source": [
    "#lambda inside map object\n",
    "square = list(map(lambda a: a**2, numbers))\n",
    "print(square)"
   ]
  },
  {
   "cell_type": "code",
   "execution_count": 0,
   "metadata": {
    "colab": {
     "base_uri": "https://localhost:8080/",
     "height": 35
    },
    "colab_type": "code",
    "id": "yTkxwWl-bwT0",
    "outputId": "6ca5d730-3b59-4939-9c67-365335130745"
   },
   "outputs": [
    {
     "name": "stdout",
     "output_type": "stream",
     "text": [
      "[1, 4, 9, 16]\n"
     ]
    }
   ],
   "source": [
    "def square(a):\n",
    "  return a**2\n",
    "\n",
    "new_num = []\n",
    "for i in numbers:\n",
    "  new_num.append(square(i))\n",
    "  \n",
    "print(new_num)"
   ]
  },
  {
   "cell_type": "code",
   "execution_count": 0,
   "metadata": {
    "colab": {
     "base_uri": "https://localhost:8080/",
     "height": 90
    },
    "colab_type": "code",
    "id": "Ao8TBQUZdDiV",
    "outputId": "611b715b-1573-49ae-9c9f-680b83baa2dd"
   },
   "outputs": [
    {
     "name": "stdout",
     "output_type": "stream",
     "text": [
      "[6, 5, 4, 8]\n",
      "[6, 5, 4, 8]\n",
      "[6, 5, 4, 8]\n",
      "[6, 5, 4, 8]\n"
     ]
    }
   ],
   "source": [
    "names = ['shahed','ashik','azad','thankyou']\n",
    "\n",
    "#process 1\n",
    "length = list(map(lambda string : len(string), names))\n",
    "print(length)\n",
    "\n",
    "#process 2\n",
    "def length(string):\n",
    "  return len(string)\n",
    "\n",
    "num = []\n",
    "for i in names:\n",
    "  num.append(length(i))\n",
    "print(num)\n",
    "\n",
    "#process 3\n",
    "num = [len(i) for i in names]\n",
    "print(num)\n",
    "\n",
    "#process 4\n",
    "length = list(map(len, names))\n",
    "print(length)"
   ]
  },
  {
   "cell_type": "code",
   "execution_count": 0,
   "metadata": {
    "colab": {
     "base_uri": "https://localhost:8080/",
     "height": 72
    },
    "colab_type": "code",
    "id": "Z4dKFgPJe0aT",
    "outputId": "74c5d54a-2b23-45ed-b41f-eed4cbb0e61f"
   },
   "outputs": [
    {
     "name": "stdout",
     "output_type": "stream",
     "text": [
      "[4, 2, 6, 6, 8] [3, 5, 1, 7]\n",
      "[4, 2, 6, 6, 8] [3, 5, 1, 7]\n",
      "[4, 2, 6, 6, 8] [3, 5, 1, 7]\n"
     ]
    }
   ],
   "source": [
    "numbers = [3,4,5,1,2,6,7,6,8]\n",
    "#filter function\n",
    "#process 1\n",
    "def is_even(a):\n",
    "  return a%2 == 0\n",
    "\n",
    "def is_odd(a):\n",
    "  return a%2 != 0\n",
    "\n",
    "evens = list(filter(is_even, numbers))\n",
    "odds = list(filter(is_odd, numbers))\n",
    "print(evens,odds)\n",
    "\n",
    "#process 2\n",
    "evens = list(filter(lambda a: a%2 == 0, numbers))\n",
    "odds = list(filter(lambda a: a%2 != 0, numbers))\n",
    "print(evens,odds)\n",
    "\n",
    "#process 3\n",
    "evens = [i for i in numbers if i % 2 == 0]\n",
    "odds = [i for i in numbers if i % 2 != 0]\n",
    "print(evens,odds)"
   ]
  },
  {
   "cell_type": "code",
   "execution_count": 4,
   "metadata": {
    "colab": {
     "base_uri": "https://localhost:8080/",
     "height": 217
    },
    "colab_type": "code",
    "id": "h8wqF2nB2SAP",
    "outputId": "a5c5c170-94d7-46c4-81e3-ad37e752bc64"
   },
   "outputs": [
    {
     "name": "stdout",
     "output_type": "stream",
     "text": [
      "<map object at 0x000002A6298FC470>\n",
      "<list_iterator object at 0x000002A6298FCAC8>\n",
      "1\n",
      "2\n",
      "3\n",
      "\n",
      "\n",
      "1\n",
      "4\n",
      "9\n",
      "16\n"
     ]
    }
   ],
   "source": [
    "# iterator vs iterables\n",
    "\n",
    "numbers = [1,2,3,4] #iterables\n",
    "squares = map(lambda a: a**2, numbers) #iterator\n",
    "print(squares)\n",
    "# for iterables\n",
    "# print(next(numbers)) //list object is not an iterator..\n",
    "new = iter(numbers)\n",
    "print(iter(numbers))\n",
    "print(next(new))\n",
    "print(next(new))\n",
    "print(next(new))\n",
    "print(\"\\n\")\n",
    "#for iterators\n",
    "print(next(squares))\n",
    "print(next(squares))\n",
    "print(next(squares))\n",
    "print(next(squares))"
   ]
  },
  {
   "cell_type": "code",
   "execution_count": 0,
   "metadata": {
    "colab": {
     "base_uri": "https://localhost:8080/",
     "height": 126
    },
    "colab_type": "code",
    "id": "iRf7gn05VuP1",
    "outputId": "8494f86e-a810-4601-f4d5-a2769c1e7a8a"
   },
   "outputs": [
    {
     "name": "stdout",
     "output_type": "stream",
     "text": [
      "<zip object at 0x7f1d365a51c8>\n",
      "('user1', 'shahed', 21)\n",
      "('user2', 'siam', 23)\n",
      "('user3', 'ashik', 24)\n",
      "[('a', 1), ('b', 2), ('c', 3)]\n",
      "{'a': 1, 'b': 2, 'c': 3}\n"
     ]
    }
   ],
   "source": [
    "#zip function\n",
    "user_id = ['user1','user2','user3']\n",
    "names = ['shahed','siam','ashik']\n",
    "age = [21,23,24]\n",
    "\n",
    "print(zip(user_id,names))\n",
    "details = zip(user_id,names,age)\n",
    "print(next(details))\n",
    "for i in details:\n",
    "  print(i)\n",
    "  \n",
    "\n",
    "# directly converting to dictionary\n",
    "fall = [('a',1),('b',2),('c',3)]\n",
    "print(fall)\n",
    "print(dict(fall))"
   ]
  },
  {
   "cell_type": "code",
   "execution_count": 0,
   "metadata": {
    "colab": {
     "base_uri": "https://localhost:8080/",
     "height": 54
    },
    "colab_type": "code",
    "id": "wKFvjh-dYxlg",
    "outputId": "7028200e-8249-4b96-d687-d4b52a0d4468"
   },
   "outputs": [
    {
     "name": "stdout",
     "output_type": "stream",
     "text": [
      "[(1, 2), (2, 4), (3, 5), (4, 6)]\n",
      "(1, 2, 3, 4) (2, 4, 5, 6)\n"
     ]
    }
   ],
   "source": [
    "#zip products packing\n",
    "l1 = [1,2,3,4]\n",
    "l2 = [2,4,5,6]\n",
    "\n",
    "new_zip = list(zip(l1,l2))\n",
    "print(new_zip)\n",
    "\n",
    "#unpacking\n",
    "l1,l2 = list(zip(*new_zip))\n",
    "print(l1,l2)"
   ]
  },
  {
   "cell_type": "code",
   "execution_count": 0,
   "metadata": {
    "colab": {
     "base_uri": "https://localhost:8080/",
     "height": 54
    },
    "colab_type": "code",
    "id": "dKyMxKaSaGLs",
    "outputId": "c4af1d03-4492-4343-fc01-5694c9869984"
   },
   "outputs": [
    {
     "name": "stdout",
     "output_type": "stream",
     "text": [
      "[2, 4, 5, 6]\n",
      "[2, 4, 5, 6]\n"
     ]
    }
   ],
   "source": [
    "l1 = [1,2,3,4]\n",
    "l2 = [2,4,5,6]\n",
    "new_list = []\n",
    "for pair in zip(l1,l2):\n",
    "  new_list.append(max(pair))\n",
    "  \n",
    "print(new_list)\n",
    "\n",
    "hell = [max(pair) for pair in zip(l1,l2)]\n",
    "print(hell)"
   ]
  },
  {
   "cell_type": "code",
   "execution_count": 0,
   "metadata": {
    "colab": {
     "base_uri": "https://localhost:8080/",
     "height": 90
    },
    "colab_type": "code",
    "id": "-98HmL8fdDb0",
    "outputId": "8331b137-3385-4d50-b89b-04c25b1762b5"
   },
   "outputs": [
    {
     "name": "stdout",
     "output_type": "stream",
     "text": [
      "1.75\n",
      "2.75\n",
      "3.75\n",
      "6.75\n"
     ]
    }
   ],
   "source": [
    "def average(list1,list2,list3,list4):\n",
    "  average = []\n",
    "  for i in zip(list1,list2,list3,list4):\n",
    "    average.append(sum(i)/len(i))\n",
    "  return average\n",
    "\n",
    "if __name__ == '__main__':\n",
    "  l1 = [1,2,3,4]\n",
    "  l2 = [2,3,4,7]\n",
    "  l3 = [max(pair) for pair in zip(l1,l2)]\n",
    "  l4 = [2,3,4,9]\n",
    "  for i in average(l1,l2,l3,l4):\n",
    "    print(round(i, 3))"
   ]
  },
  {
   "cell_type": "code",
   "execution_count": 0,
   "metadata": {
    "colab": {
     "base_uri": "https://localhost:8080/",
     "height": 90
    },
    "colab_type": "code",
    "id": "1mWGq5yCePL8",
    "outputId": "87eaf849-4495-459e-dfb8-e04e44b05d82"
   },
   "outputs": [
    {
     "name": "stdout",
     "output_type": "stream",
     "text": [
      "1.75\n",
      "2.75\n",
      "3.75\n",
      "6.75\n"
     ]
    }
   ],
   "source": [
    "def average(list1,list2,list3,list4):\n",
    "  return [sum(i)/len(i) for i in zip(list1,list2,list3,list4)]\n",
    "\n",
    "if __name__ == '__main__':\n",
    "  l1 = [1,2,3,4]\n",
    "  l2 = [2,3,4,7]\n",
    "  l3 = [max(pair) for pair in zip(l1,l2)]\n",
    "  l4 = [2,3,4,9]\n",
    "  for i in average(l1,l2,l3,l4):\n",
    "    print(round(i, 3))"
   ]
  },
  {
   "cell_type": "code",
   "execution_count": 0,
   "metadata": {
    "colab": {
     "base_uri": "https://localhost:8080/",
     "height": 90
    },
    "colab_type": "code",
    "id": "ycfBGEv0fZ5C",
    "outputId": "74e854c2-d004-4949-e382-85fb67c5f3ee"
   },
   "outputs": [
    {
     "name": "stdout",
     "output_type": "stream",
     "text": [
      "1.75\n",
      "2.75\n",
      "3.75\n",
      "6.75\n"
     ]
    }
   ],
   "source": [
    "def average(*args):\n",
    "  return [sum(i)/len(i) for i in zip(*args)]\n",
    "\n",
    "if __name__ == '__main__':\n",
    "  l1 = [1,2,3,4]\n",
    "  l2 = [2,3,4,7]\n",
    "  l3 = [max(pair) for pair in zip(l1,l2)]\n",
    "  l4 = [2,3,4,9]\n",
    "  for i in average(l1,l2,l3,l4):\n",
    "    print(round(i, 3))"
   ]
  },
  {
   "cell_type": "code",
   "execution_count": 0,
   "metadata": {
    "colab": {
     "base_uri": "https://localhost:8080/",
     "height": 108
    },
    "colab_type": "code",
    "id": "451cNkBphfWA",
    "outputId": "d47a1c4d-34f3-48ef-dd9f-5947a1edf2c7"
   },
   "outputs": [
    {
     "name": "stdout",
     "output_type": "stream",
     "text": [
      "[1.75, 2.75, 3.75, 6.75]\n",
      "1.75\n",
      "2.75\n",
      "3.75\n",
      "6.75\n"
     ]
    }
   ],
   "source": [
    "l1 = [1,2,3,4]\n",
    "l2 = [2,3,4,7]\n",
    "l3 = [max(pair) for pair in zip(l1,l2)]\n",
    "l4 = [2,3,4,9]\n",
    "hell = lambda *args : [sum(i)/len(i) for i in zip(*args)]\n",
    "print(hell(l1,l2,l3,l4))\n",
    "for i in hell(l1,l2,l3,l4):\n",
    "  print(i)"
   ]
  },
  {
   "cell_type": "code",
   "execution_count": 0,
   "metadata": {
    "colab": {
     "base_uri": "https://localhost:8080/",
     "height": 170
    },
    "colab_type": "code",
    "id": "iuJp9dgUGTni",
    "outputId": "469f536c-6e15-4440-b77f-52c527cdb876"
   },
   "outputs": [
    {
     "name": "stdout",
     "output_type": "stream",
     "text": [
      "Enter a string:ShahedAshikAzadRazibAtikKonikShanto\n",
      "\n",
      "Shahed\n",
      "Ashik\n",
      "Azad\n",
      "Razib\n",
      "Atik\n",
      "Konik\n",
      "Shanto\n"
     ]
    }
   ],
   "source": [
    "def first_div(string):\n",
    "    new_string = [] \n",
    "    make = []\n",
    "    count1  = 0\n",
    "    count2 = 0\n",
    "    for i in range(len(string)):\n",
    "        if string[i] == string[i].upper(): #this line of code will find the upper case letter\n",
    "            count2 = i\n",
    "            new_string = [string[j] for j in range(count1,count2)] #this will devide string like this exp: shahed to [s,h,a,h,e,d]\n",
    "            make.append(''.join(new_string)) #this portion of code will make them like this [s,h,a,h,e,d] to shahed\n",
    "            count1 = count2\n",
    "    return make\n",
    "\n",
    "def second_dev(list1,string):\n",
    "    new_string = []\n",
    "    make = []\n",
    "    new_list = ''.join(list1) #this is the same concept like before\n",
    "    for i in range(len(string)):\n",
    "        new_string = [string[i] for i in range(len(new_list),len(string))] #this will also make the same like this\n",
    "        make = ''.join(new_string) #same\n",
    "    return make\n",
    "\n",
    "        \n",
    "if __name__ == '__main__':\n",
    "    string = input(\"Enter a string:\") #getting string input\n",
    "    hello = first_div(string)\n",
    "    for i in hello:\n",
    "        print(i)\n",
    "    print(second_dev(hello,string))\n"
   ]
  },
  {
   "cell_type": "code",
   "execution_count": 2,
   "metadata": {},
   "outputs": [],
   "source": [
    "class Phone:\n",
    "    def __init__(self):\n",
    "        pass\n",
    "    def __init__(self, name = None, age = 0):\n",
    "        self.name = name\n",
    "        self.age = age\n",
    "    \n",
    "    def full_info(self):\n",
    "        return f\"{self.name} {self.age}\""
   ]
  },
  {
   "cell_type": "code",
   "execution_count": 5,
   "metadata": {},
   "outputs": [
    {
     "name": "stdout",
     "output_type": "stream",
     "text": [
      "Shahed 21\n",
      "{'name': 'Shahed', 'age': 21}\n"
     ]
    }
   ],
   "source": [
    "p1 = Phone()\n",
    "p1.name = \"Shahed\"\n",
    "p1.age = 21\n",
    "print(p1.full_info())\n",
    "print(p1.__dict__)\n"
   ]
  },
  {
   "cell_type": "code",
   "execution_count": null,
   "metadata": {},
   "outputs": [],
   "source": [
    "# Bunny Prisoner Locating\n",
    "# =======================\n",
    "\n",
    "# Keeping track of Commander Lambda's many bunny prisoners is starting to get tricky. You've been tasked with writing a program to match bunny prisoner IDs to cell locations.\n",
    "\n",
    "# The LAMBCHOP doomsday device takes up much of the interior of Commander Lambda's space station, and as a result the prison blocks have an unusual layout. They are stacked in a triangular shape, and the bunny prisoners are given numerical IDs starting from the corner, as follows:\n",
    "\n",
    "# | 7\n",
    "# | 4 8\n",
    "# | 2 5 9\n",
    "# | 1 3 6 10\n",
    "\n",
    "# Each cell can be represented as points (x, y), with x being the distance from the vertical wall, and y being the height from the ground. \n",
    "\n",
    "# For example, the bunny prisoner at (1, 1) has ID 1, the bunny prisoner at (3, 2) has ID 9, and the bunny prisoner at (2,3) has ID 8. This pattern of numbering continues indefinitely (Commander Lambda has been taking a LOT of prisoners). \n",
    "\n",
    "# Write a function solution(x, y) which returns the prisoner ID of the bunny at location (x, y). Each value of x and y will be at least 1 and no greater than 100,000. Since the prisoner ID can be very large, return your solution as a string representation of the number.\n",
    "\n",
    "# Languages\n",
    "# =========\n",
    "\n",
    "# To provide a Java solution, edit Solution.java\n",
    "# To provide a Python solution, edit solution.py\n",
    "\n",
    "# Test cases\n",
    "# ==========\n",
    "# Your code should pass the following test cases.\n",
    "# Note that it may also be run against hidden test cases not shown here.\n",
    "\n",
    "# -- Java cases --\n",
    "# Input:\n",
    "# Solution.solution(3, 2)\n",
    "# Output:\n",
    "#     9\n",
    "\n",
    "# Input:\n",
    "# Solution.solution(5, 10)\n",
    "# Output:\n",
    "#     96\n",
    "\n",
    "# -- Python cases --\n",
    "# Input:\n",
    "# solution.solution(5, 10)\n",
    "# Output:\n",
    "#     96\n",
    "\n",
    "# Input:\n",
    "# solution.solution(3, 2)\n",
    "# Output:\n",
    "#     9\n",
    "\n",
    "def solve(x,y):\n",
    "    sol = ((x+y-1) * (x+y-2)) / 2 + x\n",
    "    return sol\n",
    "\n",
    "solve(5,10)"
   ]
  },
  {
   "cell_type": "code",
   "execution_count": null,
   "metadata": {},
   "outputs": [],
   "source": [
    "def decimal2Binary(n,b):\n",
    "    #converting decimal number to base number\n",
    "    dt = []\n",
    "    while n > 0:\n",
    "        dt.insert(0, str(n % b))\n",
    "        n = n / b\n",
    "    return ''.join(dt)\n",
    "\n",
    "def binary2decimal(n,b):\n",
    "    #converting binary value to decimal number\n",
    "    x = 0\n",
    "    for i in str(n):\n",
    "        x = b * x + int(i)\n",
    "    return x\n",
    "    \n",
    "def subtraction(x,y,b):\n",
    "    if b == 10:\n",
    "        return int(x) - int(y)\n",
    "    \n",
    "    m = binary2decimal(x,b)\n",
    "    n = binary2decimal(y,b)\n",
    "    o = m - n\n",
    "    return decimal2Binary(o, b)\n",
    "\n",
    "\n",
    "def solution(n, b):\n",
    "    #Your code here\n",
    "    arr = []\n",
    "    while True:\n",
    "        x = ''.join(sorted(str(n), reverse=True))\n",
    "        y = ''.join(sorted(str(n)))\n",
    "        z = subtraction(x,y,b)\n",
    "        \n",
    "        l1 = len(str(z))\n",
    "        l2 = len(str(x))\n",
    "        \n",
    "        if (l1) != l2:\n",
    "            z = z * pow(10, (l2-l1))\n",
    "        \n",
    "        for i,j in enumerate(arr):\n",
    "            if j == z:\n",
    "                return i + 1\n",
    "                break\n",
    "        arr = [z] + arr\n",
    "        n = z"
   ]
  },
  {
   "cell_type": "code",
   "execution_count": null,
   "metadata": {},
   "outputs": [],
   "source": [
    "print('210022', 3)"
   ]
  },
  {
   "cell_type": "code",
   "execution_count": null,
   "metadata": {},
   "outputs": [],
   "source": [
    "# doomsday fuel\n"
   ]
  }
 ],
 "metadata": {
  "accelerator": "GPU",
  "colab": {
   "collapsed_sections": [],
   "name": "python practise.ipynb",
   "provenance": []
  },
  "kernelspec": {
   "display_name": "Python 3",
   "language": "python",
   "name": "python3"
  },
  "language_info": {
   "codemirror_mode": {
    "name": "ipython",
    "version": 3
   },
   "file_extension": ".py",
   "mimetype": "text/x-python",
   "name": "python",
   "nbconvert_exporter": "python",
   "pygments_lexer": "ipython3",
   "version": "3.6.5-final"
  }
 },
 "nbformat": 4,
 "nbformat_minor": 1
}
